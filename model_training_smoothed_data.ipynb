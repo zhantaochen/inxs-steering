{
 "cells": [
  {
   "cell_type": "code",
   "execution_count": 11,
   "metadata": {
    "tags": []
   },
   "outputs": [
    {
     "name": "stdout",
     "output_type": "stream",
     "text": [
      "The autoreload extension is already loaded. To reload it, use:\n",
      "  %reload_ext autoreload\n"
     ]
    }
   ],
   "source": [
    "%load_ext autoreload\n",
    "%autoreload 2\n",
    "import numpy as np\n",
    "import torch\n",
    "from inxss import SirenNet\n",
    "\n",
    "import glob, os\n",
    "\n",
    "from sklearn.model_selection import train_test_split\n",
    "\n",
    "from lightning.pytorch.loggers import TensorBoardLogger"
   ]
  },
  {
   "cell_type": "code",
   "execution_count": 12,
   "metadata": {
    "tags": []
   },
   "outputs": [],
   "source": [
    "from inxss import SpectrumDataset, SpecNeuralRepr\n",
    "from inxss.dataset import FullSpectrumDataset\n",
    "from inxss.specnet import FullSpectrumNetwork\n",
    "from torch.utils.data import DataLoader"
   ]
  },
  {
   "cell_type": "code",
   "execution_count": 13,
   "metadata": {
    "tags": []
   },
   "outputs": [],
   "source": [
    "mmapped_data_filename = '/pscratch/sd/z/zhantao/inxs_steering/smoothed_SpinW_data/memmap_datasets/S_sigma_0.75.dat'\n",
    "S_shape = torch.load('/pscratch/sd/z/zhantao/inxs_steering/smoothed_SpinW_data/memmap_datasets/S_shape.pt')['S_shape']\n",
    "mmapped_data = np.memmap(mmapped_data_filename, dtype=np.float32, mode='r', shape=S_shape)"
   ]
  },
  {
   "cell_type": "code",
   "execution_count": 14,
   "metadata": {
    "tags": []
   },
   "outputs": [],
   "source": [
    "data_folder = '/pscratch/sd/z/zhantao/inxs_steering/smoothed_SpinW_data/sigma_0.75'\n",
    "\n",
    "data_file = sorted(glob.glob(os.path.join(data_folder, '*.pt')))\n",
    "\n",
    "train_data_file, val_test_data_file = train_test_split(data_file, test_size=1/6, random_state=42)\n",
    "val_data_file,   test_data_file     = train_test_split(val_test_data_file, test_size=0.5, random_state=42)\n",
    "\n",
    "train_dataset = FullSpectrumDataset(\n",
    "    data_file = train_data_file,\n",
    "    grid_file = '/pscratch/sd/z/zhantao/inxs_steering/smoothed_SpinW_data/sigma_0.75/grid_metadata',\n",
    "    num_coords_per_sample = 10000\n",
    ")\n",
    "val_dataset = FullSpectrumDataset(\n",
    "    data_file = val_data_file,\n",
    "    grid_file = '/pscratch/sd/z/zhantao/inxs_steering/smoothed_SpinW_data/sigma_0.75/grid_metadata',\n",
    "    num_coords_per_sample = 10000\n",
    ")\n",
    "test_dataset = FullSpectrumDataset(\n",
    "    data_file = test_data_file,\n",
    "    grid_file = '/pscratch/sd/z/zhantao/inxs_steering/smoothed_SpinW_data/sigma_0.75/grid_metadata',\n",
    "    num_coords_per_sample = 10000\n",
    ")\n",
    "\n",
    "train_loader = DataLoader(train_dataset, batch_size=10, shuffle=True, num_workers=10)\n",
    "val_loader = DataLoader(val_dataset, batch_size=10, shuffle=False, num_workers=10)\n",
    "test_loader = DataLoader(test_dataset, batch_size=10, shuffle=False, num_workers=10)"
   ]
  },
  {
   "cell_type": "code",
   "execution_count": 15,
   "metadata": {
    "tags": []
   },
   "outputs": [],
   "source": [
    "import lightning as L\n",
    "from lightning.pytorch.callbacks import ModelCheckpoint, TQDMProgressBar\n",
    "\n",
    "model = FullSpectrumNetwork(\n",
    "    scale_dict={\n",
    "        'h' : [(0, 1), (0, 10)],\n",
    "        'k' : [(0, 1), (0, 10)],\n",
    "        'w' : [(0, 150), (0, 15)]\n",
    "        }\n",
    "    )"
   ]
  },
  {
   "cell_type": "code",
   "execution_count": 16,
   "metadata": {
    "tags": []
   },
   "outputs": [
    {
     "name": "stderr",
     "output_type": "stream",
     "text": [
      "/pscratch/sd/z/zhantao/conda/inxs/lib/python3.9/site-packages/lightning/fabric/plugins/environments/slurm.py:168: PossibleUserWarning: The `srun` command is available on your system but is not used. HINT: If your intention is to run Lightning on SLURM, prepend your python command with `srun` like so: srun python /pscratch/sd/z/zhantao/conda/inxs/lib/python3.9/site ...\n",
      "  rank_zero_warn(\n",
      "GPU available: True (cuda), used: True\n",
      "TPU available: False, using: 0 TPU cores\n",
      "IPU available: False, using: 0 IPUs\n",
      "HPU available: False, using: 0 HPUs\n",
      "/pscratch/sd/z/zhantao/conda/inxs/lib/python3.9/site-packages/lightning/fabric/plugins/environments/slurm.py:168: PossibleUserWarning: The `srun` command is available on your system but is not used. HINT: If your intention is to run Lightning on SLURM, prepend your python command with `srun` like so: srun python /pscratch/sd/z/zhantao/conda/inxs/lib/python3.9/site ...\n",
      "  rank_zero_warn(\n",
      "You are using a CUDA device ('NVIDIA A100-PCIE-40GB') that has Tensor Cores. To properly utilize them, you should set `torch.set_float32_matmul_precision('medium' | 'high')` which will trade-off precision for performance. For more details, read https://pytorch.org/docs/stable/generated/torch.set_float32_matmul_precision.html#torch.set_float32_matmul_precision\n",
      "LOCAL_RANK: 0 - CUDA_VISIBLE_DEVICES: [0]\n",
      "\n",
      "  | Name    | Type       | Params\n",
      "---------------------------------------\n",
      "0 | net     | Sequential | 265 K \n",
      "1 | loss_fn | MSELoss    | 0     \n",
      "---------------------------------------\n",
      "265 K     Trainable params\n",
      "0         Non-trainable params\n",
      "265 K     Total params\n",
      "1.061     Total estimated model params size (MB)\n"
     ]
    },
    {
     "name": "stdout",
     "output_type": "stream",
     "text": [
      "Epoch 18:  40%|████      | 20/50 [00:10<00:15,  1.92it/s, v_num=1.49e+7]   "
     ]
    },
    {
     "name": "stderr",
     "output_type": "stream",
     "text": [
      "/pscratch/sd/z/zhantao/conda/inxs/lib/python3.9/site-packages/lightning/pytorch/trainer/call.py:53: UserWarning: Detected KeyboardInterrupt, attempting graceful shutdown...\n",
      "  rank_zero_warn(\"Detected KeyboardInterrupt, attempting graceful shutdown...\")\n"
     ]
    },
    {
     "ename": "",
     "evalue": "",
     "output_type": "error",
     "traceback": [
      "\u001b[1;31mThe Kernel crashed while executing code in the the current cell or a previous cell. Please review the code in the cell(s) to identify a possible cause of the failure. Click <a href='https://aka.ms/vscodeJupyterKernelCrash'>here</a> for more info. View Jupyter <a href='command:jupyter.viewOutput'>log</a> for further details."
     ]
    }
   ],
   "source": [
    "checkpoint_callback = ModelCheckpoint(\n",
    "    save_on_train_epoch_end=False, save_last=True, save_top_k=1, monitor=\"val_loss\"\n",
    ")\n",
    "\n",
    "logger = TensorBoardLogger(save_dir='/pscratch/sd/z/zhantao/inxs_steering')\n",
    "\n",
    "trainer = L.Trainer(\n",
    "    max_epochs=1000, accelerator=\"gpu\",\n",
    "    callbacks=[TQDMProgressBar(refresh_rate=10), checkpoint_callback],\n",
    "    logger=logger, log_every_n_steps=1, devices=1,\n",
    "    enable_checkpointing=True,\n",
    "    default_root_dir='/pscratch/sd/z/zhantao/inxs_steering'\n",
    ")\n",
    "\n",
    "trainer.fit(model, train_loader, val_loader)"
   ]
  },
  {
   "cell_type": "code",
   "execution_count": null,
   "metadata": {},
   "outputs": [],
   "source": []
  }
 ],
 "metadata": {
  "kernelspec": {
   "display_name": "Python 3 (ipykernel)",
   "language": "python",
   "name": "python3"
  },
  "language_info": {
   "codemirror_mode": {
    "name": "ipython",
    "version": 3
   },
   "file_extension": ".py",
   "mimetype": "text/x-python",
   "name": "python",
   "nbconvert_exporter": "python",
   "pygments_lexer": "ipython3",
   "version": "3.9.17"
  }
 },
 "nbformat": 4,
 "nbformat_minor": 4
}
