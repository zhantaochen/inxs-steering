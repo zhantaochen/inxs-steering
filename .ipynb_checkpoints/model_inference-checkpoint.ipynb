{
 "cells": [
  {
   "cell_type": "code",
   "execution_count": null,
   "metadata": {
    "tags": []
   },
   "outputs": [],
   "source": [
    "%load_ext autoreload\n",
    "%autoreload 2\n",
    "import numpy as np\n",
    "import torch\n",
    "\n",
    "from sklearn.model_selection import train_test_split\n",
    "import matplotlib.pyplot as plt\n",
    "\n",
    "from inxss import SpectrumDataset, SpecNeuralRepr, PsiMask\n",
    "from torch.utils.data import DataLoader"
   ]
  },
  {
   "cell_type": "code",
   "execution_count": null,
   "metadata": {
    "tags": []
   },
   "outputs": [],
   "source": [
    "spec_dataset = SpectrumDataset(\n",
    "    '/pscratch/sd/z/zhantao/inxs_steering/SpinW_data/summarized_AFM_data_2023Aug01.pt',\n",
    "    num_wq=50\n",
    "    )\n",
    "\n",
    "train_idx, val_test_idx = train_test_split(np.arange(len(spec_dataset)), test_size=0.2, random_state=42)\n",
    "val_idx, test_idx = train_test_split(val_test_idx, test_size=0.5, random_state=42)\n",
    "\n",
    "train_loader = DataLoader([spec_dataset[i] for i in train_idx], batch_size=10, shuffle=True)\n",
    "val_loader = DataLoader([spec_dataset[i] for i in val_idx], batch_size=10, shuffle=False)\n",
    "test_loader = DataLoader([spec_dataset[i] for i in test_idx], batch_size=10, shuffle=False)"
   ]
  },
  {
   "cell_type": "code",
   "execution_count": null,
   "metadata": {
    "tags": []
   },
   "outputs": [],
   "source": [
    "model = SpecNeuralRepr.load_from_checkpoint(\n",
    "    '/pscratch/sd/z/zhantao/inxs_steering/lightning_logs/version_14896838/checkpoints/epoch=2428-step=38864.ckpt'\n",
    "    )"
   ]
  },
  {
   "cell_type": "code",
   "execution_count": null,
   "metadata": {
    "tags": []
   },
   "outputs": [],
   "source": [
    "from inxss import linspace_2D_equidistant, plot_points, get_Sqw_func"
   ]
  },
  {
   "cell_type": "code",
   "execution_count": null,
   "metadata": {
    "tags": []
   },
   "outputs": [],
   "source": [
    "kpts = torch.from_numpy(linspace_2D_equidistant([[0,0],[0.5,0],[0.5,0.5],[0,0]], 100))\n",
    "wpts = spec_dataset.data_dict['w_grid']"
   ]
  },
  {
   "cell_type": "code",
   "execution_count": null,
   "metadata": {
    "tags": []
   },
   "outputs": [],
   "source": [
    "x = torch.zeros(wpts.shape[0], kpts.shape[0], 5)"
   ]
  },
  {
   "cell_type": "code",
   "execution_count": null,
   "metadata": {
    "tags": []
   },
   "outputs": [],
   "source": [
    "fig, ax = plt.subplots(1,1)\n",
    "ax.scatter(spec_dataset.data_dict['params'][train_idx,0], spec_dataset.data_dict['params'][train_idx,1], label='train')\n",
    "ax.scatter(spec_dataset.data_dict['params'][val_idx,0], spec_dataset.data_dict['params'][val_idx,1], label='val')\n",
    "ax.scatter(spec_dataset.data_dict['params'][test_idx,0], spec_dataset.data_dict['params'][test_idx,1], label='test')\n",
    "ax.set_xlabel('$J$', fontsize=16)\n",
    "ax.set_ylabel('$J_{p}$', fontsize=16)\n",
    "ax.legend()"
   ]
  },
  {
   "cell_type": "code",
   "execution_count": null,
   "metadata": {
    "tags": []
   },
   "outputs": [],
   "source": [
    "idx_plot = 2\n",
    "params = spec_dataset.data_dict['params'][test_idx[idx_plot]]\n",
    "\n",
    "x[...,:3] = torch.cat([\n",
    "    kpts.unsqueeze(0).expand(wpts.shape[0], -1, -1),\n",
    "    wpts.view(wpts.shape[0], -1).unsqueeze(1).expand(-1, kpts.shape[0], -1)\n",
    "   ], dim=2)\n",
    "x[...,3:] = params\n",
    "\n",
    "S_pred = model(x.to(model.device)).reshape(wpts.shape[0], kpts.shape[0]).detach().cpu().numpy()"
   ]
  },
  {
   "cell_type": "code",
   "execution_count": null,
   "metadata": {
    "tags": []
   },
   "outputs": [],
   "source": [
    "from scipy.interpolate import RegularGridInterpolator\n",
    "S_true_func = RegularGridInterpolator(\n",
    "    (np.linspace(0, 0.5, 101), np.linspace(0, 0.5, 101), wpts.numpy()), \n",
    "    spec_dataset.data_dict['S'][test_idx[idx_plot]].reshape(-1, 101, 101).permute(1,2,0).numpy(), fill_value=0, bounds_error=False)\n",
    "S_true = S_true_func(x.detach().numpy()[...,:3])\n",
    "# plt.imshow(S_true, origin='lower')"
   ]
  },
  {
   "cell_type": "code",
   "execution_count": null,
   "metadata": {
    "tags": []
   },
   "outputs": [],
   "source": [
    "fig, ax = plt.subplots(1, 2, figsize=(6, 5))\n",
    "ax[0].imshow(S_true, origin='lower')\n",
    "ax[0].set_title('True')\n",
    "ax[1].imshow(S_pred, origin='lower')\n",
    "ax[1].set_title('Predicted')\n",
    "\n",
    "fig.suptitle(rf'$J={params[0]:.2f}, \\ J_{{p}}={params[1]:.2f}$')\n",
    "fig.tight_layout()"
   ]
  }
 ],
 "metadata": {
  "kernelspec": {
   "display_name": "sqt",
   "language": "python",
   "name": "sqt"
  },
  "language_info": {
   "codemirror_mode": {
    "name": "ipython",
    "version": 3
   },
   "file_extension": ".py",
   "mimetype": "text/x-python",
   "name": "python",
   "nbconvert_exporter": "python",
   "pygments_lexer": "ipython3",
   "version": "3.9.16"
  }
 },
 "nbformat": 4,
 "nbformat_minor": 4
}
