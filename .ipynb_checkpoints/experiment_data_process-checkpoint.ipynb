{
 "cells": [
  {
   "cell_type": "code",
   "execution_count": 1,
   "metadata": {
    "tags": []
   },
   "outputs": [],
   "source": [
    "import numpy as np\n",
    "import scipy.io\n",
    "import torch\n",
    "\n",
    "def safe_float_conversion(data):\n",
    "    try:\n",
    "        return data.astype(float)\n",
    "    except ValueError:\n",
    "        # Handle or log the exception if needed\n",
    "        return data\n",
    "\n",
    "def recursively_convert_to_float(data):\n",
    "    # Check if data is a numpy array (which includes structured arrays and nested arrays)\n",
    "    if isinstance(data, np.ndarray):\n",
    "        if data.dtype == 'O':  # For object type arrays, iterate over each element\n",
    "            return np.array([recursively_convert_to_float(item.squeeze()) for item in data], dtype=float)\n",
    "        else:  # Directly convert to float for other numeric types\n",
    "            return data.astype(float)\n",
    "    else:  # Base case for non-array data\n",
    "        return float(data)"
   ]
  },
  {
   "cell_type": "code",
   "execution_count": 2,
   "metadata": {
    "tags": []
   },
   "outputs": [],
   "source": [
    "incident_energy = 260"
   ]
  },
  {
   "cell_type": "code",
   "execution_count": 3,
   "metadata": {
    "tags": []
   },
   "outputs": [],
   "source": [
    "exp_mat_190meV = scipy.io.loadmat(f'/pscratch/sd/z/zhantao/inxs_steering/experiment_data/Data_folded{incident_energy:d}meV.mat')"
   ]
  },
  {
   "cell_type": "code",
   "execution_count": 4,
   "metadata": {
    "tags": []
   },
   "outputs": [],
   "source": [
    "flattened_data = exp_mat_190meV['data'][0][0].copy()"
   ]
  },
  {
   "cell_type": "code",
   "execution_count": 5,
   "metadata": {
    "tags": []
   },
   "outputs": [],
   "source": [
    "dict_out = {}\n",
    "\n",
    "for name in flattened_data.dtype.names:\n",
    "    if name == 's':\n",
    "        dict_out['S'] = torch.from_numpy(flattened_data[name].astype(float))\n",
    "    elif name == 'p':\n",
    "        dict_out['grid'] = {}\n",
    "        for _key, _array in zip(['h_grid', 'k_grid', 'l_grid', 'w_grid'], flattened_data[name][0]):\n",
    "            dict_out['grid'][_key] = torch.from_numpy((_array.astype(float)[:-1] + _array.astype(float)[1:]).squeeze() / 2)"
   ]
  },
  {
   "cell_type": "code",
   "execution_count": 6,
   "metadata": {
    "tags": []
   },
   "outputs": [],
   "source": [
    "torch.save(dict_out, f'/pscratch/sd/z/zhantao/inxs_steering/experiment_data/summarized_neutron_data_{incident_energy:d}meV.pt')"
   ]
  }
 ],
 "metadata": {
  "kernelspec": {
   "display_name": "inxs",
   "language": "python",
   "name": "inxs"
  },
  "language_info": {
   "codemirror_mode": {
    "name": "ipython",
    "version": 3
   },
   "file_extension": ".py",
   "mimetype": "text/x-python",
   "name": "python",
   "nbconvert_exporter": "python",
   "pygments_lexer": "ipython3",
   "version": "3.9.17"
  },
  "vscode": {
   "interpreter": {
    "hash": "baa90d46444730928d6997f6c9dcd84f1f191d7cb6f99c598b2967ec1016e995"
   }
  }
 },
 "nbformat": 4,
 "nbformat_minor": 4
}
