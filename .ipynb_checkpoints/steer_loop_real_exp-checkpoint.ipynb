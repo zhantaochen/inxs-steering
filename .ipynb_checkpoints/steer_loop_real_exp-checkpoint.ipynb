{
 "cells": [
  {
   "cell_type": "code",
   "execution_count": 1,
   "metadata": {
    "tags": []
   },
   "outputs": [],
   "source": [
    "%load_ext autoreload\n",
    "%autoreload 2\n",
    "from inxss.utils_spectrum import calc_Sqw_from_Syy_Szz\n",
    "from inxss.experiment import SimulatedExperiment\n",
    "\n",
    "import torch\n",
    "import numpy as np\n",
    "from scipy.interpolate import RegularGridInterpolator\n",
    "\n",
    "from inxss import SpectrumDataset, SpecNeuralRepr, Particle, PsiMask, OnlineVariance, linspace_2D_equidistant\n",
    "from inxss.utils_visualization import arc_arrow, rad_arrow\n",
    "\n",
    "import matplotlib.pyplot as plt\n",
    "\n",
    "from tqdm import tqdm \n",
    "\n",
    "device = torch.device(\"cuda:0\" if torch.cuda.is_available() else \"cpu\")\n",
    "# device = 'cpu'\n",
    "\n",
    "torch.set_default_dtype(torch.float32)"
   ]
  },
  {
   "cell_type": "code",
   "execution_count": 2,
   "metadata": {
    "tags": []
   },
   "outputs": [],
   "source": [
    "from inxss.experiment import NeutronExperiment, SimulatedExperiment"
   ]
  },
  {
   "cell_type": "code",
   "execution_count": 3,
   "metadata": {
    "tags": []
   },
   "outputs": [
    {
     "name": "stdout",
     "output_type": "stream",
     "text": [
      "dict_keys(['grid', 'S', 'background', 'scale', 'scale_separator'])\n"
     ]
    }
   ],
   "source": [
    "model_path = '/pscratch/sd/z/zhantao/inxs_steering_production/models/version_14896845/checkpoints/epoch=7160-step=343728.ckpt'\n",
    "data = torch.load('/pscratch/sd/z/zhantao/inxs_steering_production/experiment_data/summarized_neutron_data_w_bkg_260meV.pt')\n",
    "print(data.keys())"
   ]
  },
  {
   "cell_type": "markdown",
   "metadata": {
    "tags": []
   },
   "source": [
    "### setup experiment simulator"
   ]
  },
  {
   "cell_type": "code",
   "execution_count": 4,
   "metadata": {
    "tags": []
   },
   "outputs": [],
   "source": [
    "from inxss.experiment import Background"
   ]
  },
  {
   "cell_type": "code",
   "execution_count": 5,
   "metadata": {
    "tags": []
   },
   "outputs": [],
   "source": [
    "background = Background(\n",
    "    tuple([data['grid'][_grid] for _grid in ['h_grid', 'k_grid', 'l_grid']]), \n",
    "    data['grid']['w_grid'], \n",
    "    data['background'], \n",
    "    data['scale'],\n",
    "    data['scale_separator']\n",
    ")"
   ]
  },
  {
   "cell_type": "markdown",
   "metadata": {},
   "source": [
    "### Testing integrated steer module"
   ]
  },
  {
   "cell_type": "code",
   "execution_count": 6,
   "metadata": {
    "tags": []
   },
   "outputs": [],
   "source": [
    "from inxss.steer_neutron import NeutronExperimentSteerer"
   ]
  },
  {
   "cell_type": "code",
   "execution_count": 7,
   "metadata": {
    "tags": []
   },
   "outputs": [
    {
     "name": "stdout",
     "output_type": "stream",
     "text": [
      "obtained memmap mask name as: mask_h_-2.0_2.0_121_k_-2.0_2.0_121_l_-10.0_4.5_30_w_20.0_150.0_66.npy\n"
     ]
    }
   ],
   "source": [
    "particle_filter_config = {\n",
    "    \"num_particles\": 500,\n",
    "    \"dim_particles\": 2,\n",
    "    \"prior_configs\": {'types': ['uniform', 'uniform'], 'args': [{'low': 20, 'high': 40}, {'low': -5, 'high': 5}]}\n",
    "}\n",
    "\n",
    "\n",
    "grid_info = {\n",
    "    'h_grid': [-2.0, 2.0, 121],\n",
    "    'k_grid': [-2.0, 2.0, 121],\n",
    "    'l_grid': [-10.0, 4.5, 30],\n",
    "    'w_grid': [20.0, 150.0, 66]\n",
    "}\n",
    "# grid_info = {\n",
    "#     _: [eval(f'neutron_exp.{_}').min().item(), eval(f'neutron_exp.{_}').max().item(), eval(f'neutron_exp.{_}').shape[0]] \n",
    "#     for _ in ['h_grid', 'k_grid', 'l_grid', 'w_grid']}\n",
    "\n",
    "mask_config = {\n",
    "    \"raw_mask_path\": '/pscratch/sd/z/zhantao/inxs_steering/La2NiO4_bool',\n",
    "    \"memmap_mask_path\": '/pscratch/sd/z/zhantao/inxs_steering/mask_data',\n",
    "    \"grid_info\": grid_info,\n",
    "    \"preload\": False,\n",
    "    \"build_from_scratch_if_no_memmap\": False,\n",
    "    \"global_mask\": data['S']>0\n",
    "}\n",
    "\n",
    "experiment_config = {\n",
    "    \"q_grid\": tuple([data['grid'][_grid] for _grid in ['h_grid', 'k_grid', 'l_grid']]),\n",
    "    \"w_grid\": data['grid']['w_grid'],\n",
    "    \"S_grid\": data['S'],\n",
    "    \"S_scale_factor\": 1.\n",
    "}\n",
    "\n",
    "background_config = {\n",
    "    \"q_grid\": tuple([data['grid'][_grid] for _grid in ['h_grid', 'k_grid', 'l_grid']]),\n",
    "    \"w_grid\": data['grid']['w_grid'],\n",
    "    \"bkg_grid\": data['background'],\n",
    "    \"scale\": data['scale'],\n",
    "    \"scale_separator\": data['scale_separator']\n",
    "}\n",
    "\n",
    "model = SpecNeuralRepr.load_from_checkpoint(model_path).to(device)\n",
    "\n",
    "steer = NeutronExperimentSteerer(\n",
    "    model, particle_filter_config=particle_filter_config,\n",
    "    mask_config=mask_config, experiment_config=experiment_config, background_config=background_config,\n",
    "    likelihood_sample_ratio=0.2, tqdm_pbar=False, device='cuda')"
   ]
  },
  {
   "cell_type": "code",
   "execution_count": 8,
   "metadata": {
    "tags": []
   },
   "outputs": [],
   "source": [
    "mean_list = []\n",
    "std_list = []\n",
    "steer.reset()"
   ]
  },
  {
   "cell_type": "code",
   "execution_count": 14,
   "metadata": {
    "tags": []
   },
   "outputs": [
    {
     "name": "stdout",
     "output_type": "stream",
     "text": [
      "tensor([28.1390,  0.9443], dtype=torch.float64) tensor([1.8094, 1.3212], dtype=torch.float64)\n"
     ]
    },
    {
     "name": "stderr",
     "output_type": "stream",
     "text": [
      "  2%|▏         | 1/50 [00:04<03:53,  4.76s/it]"
     ]
    },
    {
     "name": "stdout",
     "output_type": "stream",
     "text": [
      "tensor([28.2619,  1.0582], dtype=torch.float64) tensor([1.7841, 1.2956], dtype=torch.float64)\n"
     ]
    },
    {
     "name": "stderr",
     "output_type": "stream",
     "text": [
      "  4%|▍         | 2/50 [00:09<03:47,  4.73s/it]"
     ]
    },
    {
     "name": "stdout",
     "output_type": "stream",
     "text": [
      "tensor([28.3666,  1.1254], dtype=torch.float64) tensor([1.7240, 1.2490], dtype=torch.float64)\n"
     ]
    },
    {
     "name": "stderr",
     "output_type": "stream",
     "text": [
      "  6%|▌         | 3/50 [00:14<03:41,  4.71s/it]"
     ]
    },
    {
     "name": "stdout",
     "output_type": "stream",
     "text": [
      "tensor([28.1203,  0.8982], dtype=torch.float64) tensor([1.6780, 1.2087], dtype=torch.float64)\n"
     ]
    },
    {
     "name": "stderr",
     "output_type": "stream",
     "text": [
      "  8%|▊         | 4/50 [00:18<03:35,  4.69s/it]"
     ]
    },
    {
     "name": "stdout",
     "output_type": "stream",
     "text": [
      "tensor([28.1956,  0.9678], dtype=torch.float64) tensor([1.6492, 1.1810], dtype=torch.float64)\n"
     ]
    },
    {
     "name": "stderr",
     "output_type": "stream",
     "text": [
      " 10%|█         | 5/50 [00:23<03:31,  4.69s/it]"
     ]
    },
    {
     "name": "stdout",
     "output_type": "stream",
     "text": [
      "tensor([28.3164,  1.0485], dtype=torch.float64) tensor([1.6065, 1.1540], dtype=torch.float64)\n"
     ]
    },
    {
     "name": "stderr",
     "output_type": "stream",
     "text": [
      " 12%|█▏        | 6/50 [00:28<03:25,  4.68s/it]"
     ]
    },
    {
     "name": "stdout",
     "output_type": "stream",
     "text": [
      "tensor([28.0701,  0.8528], dtype=torch.float64) tensor([1.5646, 1.1128], dtype=torch.float64)\n"
     ]
    },
    {
     "name": "stderr",
     "output_type": "stream",
     "text": [
      " 14%|█▍        | 7/50 [00:32<03:21,  4.68s/it]"
     ]
    },
    {
     "name": "stdout",
     "output_type": "stream",
     "text": [
      "tensor([28.0251,  0.8405], dtype=torch.float64) tensor([1.5384, 1.0889], dtype=torch.float64)\n"
     ]
    },
    {
     "name": "stderr",
     "output_type": "stream",
     "text": [
      " 16%|█▌        | 8/50 [00:37<03:16,  4.68s/it]"
     ]
    },
    {
     "name": "stdout",
     "output_type": "stream",
     "text": [
      "tensor([28.1393,  0.9257], dtype=torch.float64) tensor([1.4968, 1.0546], dtype=torch.float64)\n"
     ]
    },
    {
     "name": "stderr",
     "output_type": "stream",
     "text": [
      " 18%|█▊        | 9/50 [00:42<03:11,  4.67s/it]"
     ]
    },
    {
     "name": "stdout",
     "output_type": "stream",
     "text": [
      "tensor([28.2667,  0.9967], dtype=torch.float64) tensor([1.4622, 1.0343], dtype=torch.float64)\n"
     ]
    },
    {
     "name": "stderr",
     "output_type": "stream",
     "text": [
      " 20%|██        | 10/50 [00:46<03:06,  4.67s/it]"
     ]
    },
    {
     "name": "stdout",
     "output_type": "stream",
     "text": [
      "tensor([28.2957,  1.0413], dtype=torch.float64) tensor([1.4577, 1.0309], dtype=torch.float64)\n"
     ]
    },
    {
     "name": "stderr",
     "output_type": "stream",
     "text": [
      " 22%|██▏       | 11/50 [00:51<03:02,  4.68s/it]"
     ]
    },
    {
     "name": "stdout",
     "output_type": "stream",
     "text": [
      "tensor([28.4077,  1.1449], dtype=torch.float64) tensor([1.4440, 1.0207], dtype=torch.float64)\n"
     ]
    },
    {
     "name": "stderr",
     "output_type": "stream",
     "text": [
      " 24%|██▍       | 12/50 [00:56<02:57,  4.67s/it]"
     ]
    },
    {
     "name": "stdout",
     "output_type": "stream",
     "text": [
      "tensor([28.1061,  0.9420], dtype=torch.float64) tensor([1.3747, 0.9739], dtype=torch.float64)\n"
     ]
    },
    {
     "name": "stderr",
     "output_type": "stream",
     "text": [
      " 26%|██▌       | 13/50 [01:00<02:52,  4.67s/it]"
     ]
    },
    {
     "name": "stdout",
     "output_type": "stream",
     "text": [
      "tensor([28.0417,  0.8733], dtype=torch.float64) tensor([1.3566, 0.9609], dtype=torch.float64)\n"
     ]
    },
    {
     "name": "stderr",
     "output_type": "stream",
     "text": [
      " 28%|██▊       | 14/50 [01:05<02:48,  4.67s/it]"
     ]
    },
    {
     "name": "stdout",
     "output_type": "stream",
     "text": [
      "tensor([28.2047,  0.9955], dtype=torch.float64) tensor([1.3377, 0.9512], dtype=torch.float64)\n"
     ]
    },
    {
     "name": "stderr",
     "output_type": "stream",
     "text": [
      " 30%|███       | 15/50 [01:10<02:43,  4.66s/it]"
     ]
    },
    {
     "name": "stdout",
     "output_type": "stream",
     "text": [
      "tensor([28.2307,  1.0084], dtype=torch.float64) tensor([1.3090, 0.9276], dtype=torch.float64)\n"
     ]
    },
    {
     "name": "stderr",
     "output_type": "stream",
     "text": [
      " 32%|███▏      | 16/50 [01:14<02:38,  4.67s/it]"
     ]
    },
    {
     "name": "stdout",
     "output_type": "stream",
     "text": [
      "tensor([28.0996,  0.9204], dtype=torch.float64) tensor([1.3041, 0.9346], dtype=torch.float64)\n"
     ]
    },
    {
     "name": "stderr",
     "output_type": "stream",
     "text": [
      " 34%|███▍      | 17/50 [01:19<02:34,  4.67s/it]"
     ]
    },
    {
     "name": "stdout",
     "output_type": "stream",
     "text": [
      "tensor([28.4412,  1.1691], dtype=torch.float64) tensor([1.2460, 0.8959], dtype=torch.float64)\n"
     ]
    },
    {
     "name": "stderr",
     "output_type": "stream",
     "text": [
      " 36%|███▌      | 18/50 [01:24<02:29,  4.66s/it]"
     ]
    },
    {
     "name": "stdout",
     "output_type": "stream",
     "text": [
      "tensor([28.2459,  1.0637], dtype=torch.float64) tensor([1.2349, 0.8911], dtype=torch.float64)\n"
     ]
    },
    {
     "name": "stderr",
     "output_type": "stream",
     "text": [
      " 38%|███▊      | 19/50 [01:28<02:24,  4.67s/it]"
     ]
    },
    {
     "name": "stdout",
     "output_type": "stream",
     "text": [
      "tensor([28.0954,  0.9883], dtype=torch.float64) tensor([1.2213, 0.8816], dtype=torch.float64)\n"
     ]
    },
    {
     "name": "stderr",
     "output_type": "stream",
     "text": [
      " 40%|████      | 20/50 [01:33<02:20,  4.68s/it]"
     ]
    },
    {
     "name": "stdout",
     "output_type": "stream",
     "text": [
      "tensor([28.2049,  1.0254], dtype=torch.float64) tensor([1.2041, 0.8696], dtype=torch.float64)\n"
     ]
    },
    {
     "name": "stderr",
     "output_type": "stream",
     "text": [
      " 42%|████▏     | 21/50 [01:38<02:15,  4.66s/it]"
     ]
    },
    {
     "name": "stdout",
     "output_type": "stream",
     "text": [
      "tensor([28.0343,  0.8980], dtype=torch.float64) tensor([1.1427, 0.8149], dtype=torch.float64)\n"
     ]
    },
    {
     "name": "stderr",
     "output_type": "stream",
     "text": [
      " 44%|████▍     | 22/50 [01:42<02:10,  4.67s/it]"
     ]
    },
    {
     "name": "stdout",
     "output_type": "stream",
     "text": [
      "tensor([28.0875,  0.9246], dtype=torch.float64) tensor([1.1110, 0.7959], dtype=torch.float64)\n"
     ]
    },
    {
     "name": "stderr",
     "output_type": "stream",
     "text": [
      " 46%|████▌     | 23/50 [01:47<02:05,  4.67s/it]"
     ]
    },
    {
     "name": "stdout",
     "output_type": "stream",
     "text": [
      "tensor([27.9234,  0.8187], dtype=torch.float64) tensor([1.0864, 0.7784], dtype=torch.float64)\n"
     ]
    },
    {
     "name": "stderr",
     "output_type": "stream",
     "text": [
      " 48%|████▊     | 24/50 [01:52<02:01,  4.66s/it]"
     ]
    },
    {
     "name": "stdout",
     "output_type": "stream",
     "text": [
      "tensor([28.1416,  0.9906], dtype=torch.float64) tensor([1.0897, 0.7808], dtype=torch.float64)\n"
     ]
    },
    {
     "name": "stderr",
     "output_type": "stream",
     "text": [
      " 50%|█████     | 25/50 [01:56<01:56,  4.67s/it]"
     ]
    },
    {
     "name": "stdout",
     "output_type": "stream",
     "text": [
      "tensor([28.3356,  1.1142], dtype=torch.float64) tensor([1.0621, 0.7674], dtype=torch.float64)\n"
     ]
    },
    {
     "name": "stderr",
     "output_type": "stream",
     "text": [
      " 52%|█████▏    | 26/50 [02:01<01:52,  4.68s/it]"
     ]
    },
    {
     "name": "stdout",
     "output_type": "stream",
     "text": [
      "tensor([28.4835,  1.2365], dtype=torch.float64) tensor([1.0412, 0.7506], dtype=torch.float64)\n"
     ]
    },
    {
     "name": "stderr",
     "output_type": "stream",
     "text": [
      " 54%|█████▍    | 27/50 [02:06<01:47,  4.67s/it]"
     ]
    },
    {
     "name": "stdout",
     "output_type": "stream",
     "text": [
      "tensor([28.5897,  1.3304], dtype=torch.float64) tensor([1.0294, 0.7388], dtype=torch.float64)\n"
     ]
    },
    {
     "name": "stderr",
     "output_type": "stream",
     "text": [
      " 56%|█████▌    | 28/50 [02:10<01:42,  4.67s/it]"
     ]
    },
    {
     "name": "stdout",
     "output_type": "stream",
     "text": [
      "tensor([28.5045,  1.2718], dtype=torch.float64) tensor([1.0061, 0.7152], dtype=torch.float64)\n"
     ]
    },
    {
     "name": "stderr",
     "output_type": "stream",
     "text": [
      " 58%|█████▊    | 29/50 [02:15<01:38,  4.67s/it]"
     ]
    },
    {
     "name": "stdout",
     "output_type": "stream",
     "text": [
      "tensor([28.4735,  1.2630], dtype=torch.float64) tensor([0.9954, 0.7065], dtype=torch.float64)\n"
     ]
    },
    {
     "name": "stderr",
     "output_type": "stream",
     "text": [
      " 60%|██████    | 30/50 [02:20<01:33,  4.66s/it]"
     ]
    },
    {
     "name": "stdout",
     "output_type": "stream",
     "text": [
      "tensor([28.7007,  1.4279], dtype=torch.float64) tensor([0.9491, 0.6747], dtype=torch.float64)\n"
     ]
    },
    {
     "name": "stderr",
     "output_type": "stream",
     "text": [
      " 62%|██████▏   | 31/50 [02:24<01:28,  4.67s/it]"
     ]
    },
    {
     "name": "stdout",
     "output_type": "stream",
     "text": [
      "tensor([28.6543,  1.3762], dtype=torch.float64) tensor([0.9451, 0.6718], dtype=torch.float64)\n"
     ]
    },
    {
     "name": "stderr",
     "output_type": "stream",
     "text": [
      " 64%|██████▍   | 32/50 [02:29<01:24,  4.67s/it]"
     ]
    },
    {
     "name": "stdout",
     "output_type": "stream",
     "text": [
      "tensor([28.8734,  1.5231], dtype=torch.float64) tensor([0.8646, 0.6220], dtype=torch.float64)\n"
     ]
    },
    {
     "name": "stderr",
     "output_type": "stream",
     "text": [
      " 66%|██████▌   | 33/50 [02:34<01:19,  4.67s/it]"
     ]
    },
    {
     "name": "stdout",
     "output_type": "stream",
     "text": [
      "tensor([29.0198,  1.6232], dtype=torch.float64) tensor([0.7656, 0.5566], dtype=torch.float64)\n"
     ]
    },
    {
     "name": "stderr",
     "output_type": "stream",
     "text": [
      " 68%|██████▊   | 34/50 [02:38<01:14,  4.67s/it]"
     ]
    },
    {
     "name": "stdout",
     "output_type": "stream",
     "text": [
      "tensor([28.8878,  1.5535], dtype=torch.float64) tensor([0.7580, 0.5492], dtype=torch.float64)\n"
     ]
    },
    {
     "name": "stderr",
     "output_type": "stream",
     "text": [
      " 70%|███████   | 35/50 [02:43<01:10,  4.67s/it]"
     ]
    },
    {
     "name": "stdout",
     "output_type": "stream",
     "text": [
      "tensor([29.0122,  1.6346], dtype=torch.float64) tensor([0.6994, 0.5106], dtype=torch.float64)\n"
     ]
    },
    {
     "name": "stderr",
     "output_type": "stream",
     "text": [
      " 72%|███████▏  | 36/50 [02:48<01:05,  4.67s/it]"
     ]
    },
    {
     "name": "stdout",
     "output_type": "stream",
     "text": [
      "tensor([28.9447,  1.5528], dtype=torch.float64) tensor([0.6971, 0.5142], dtype=torch.float64)\n"
     ]
    },
    {
     "name": "stderr",
     "output_type": "stream",
     "text": [
      " 74%|███████▍  | 37/50 [02:52<01:00,  4.67s/it]"
     ]
    },
    {
     "name": "stdout",
     "output_type": "stream",
     "text": [
      "tensor([28.9380,  1.5289], dtype=torch.float64) tensor([0.6775, 0.5015], dtype=torch.float64)\n"
     ]
    },
    {
     "name": "stderr",
     "output_type": "stream",
     "text": [
      " 76%|███████▌  | 38/50 [02:57<00:55,  4.67s/it]"
     ]
    },
    {
     "name": "stdout",
     "output_type": "stream",
     "text": [
      "tensor([28.9639,  1.5329], dtype=torch.float64) tensor([0.6671, 0.4979], dtype=torch.float64)\n"
     ]
    },
    {
     "name": "stderr",
     "output_type": "stream",
     "text": [
      " 78%|███████▊  | 39/50 [03:02<00:51,  4.66s/it]"
     ]
    },
    {
     "name": "stdout",
     "output_type": "stream",
     "text": [
      "tensor([28.9996,  1.5815], dtype=torch.float64) tensor([0.6737, 0.4979], dtype=torch.float64)\n"
     ]
    },
    {
     "name": "stderr",
     "output_type": "stream",
     "text": [
      " 80%|████████  | 40/50 [03:06<00:46,  4.67s/it]"
     ]
    },
    {
     "name": "stdout",
     "output_type": "stream",
     "text": [
      "tensor([29.1512,  1.7094], dtype=torch.float64) tensor([0.6450, 0.4702], dtype=torch.float64)\n"
     ]
    },
    {
     "name": "stderr",
     "output_type": "stream",
     "text": [
      " 82%|████████▏ | 41/50 [03:11<00:41,  4.67s/it]"
     ]
    },
    {
     "name": "stdout",
     "output_type": "stream",
     "text": [
      "tensor([29.0047,  1.6128], dtype=torch.float64) tensor([0.6151, 0.4466], dtype=torch.float64)\n"
     ]
    },
    {
     "name": "stderr",
     "output_type": "stream",
     "text": [
      " 84%|████████▍ | 42/50 [03:16<00:37,  4.66s/it]"
     ]
    },
    {
     "name": "stdout",
     "output_type": "stream",
     "text": [
      "tensor([28.9575,  1.5953], dtype=torch.float64) tensor([0.6166, 0.4457], dtype=torch.float64)\n"
     ]
    },
    {
     "name": "stderr",
     "output_type": "stream",
     "text": [
      " 86%|████████▌ | 43/50 [03:20<00:32,  4.66s/it]"
     ]
    },
    {
     "name": "stdout",
     "output_type": "stream",
     "text": [
      "tensor([29.0256,  1.6544], dtype=torch.float64) tensor([0.5962, 0.4273], dtype=torch.float64)\n"
     ]
    },
    {
     "name": "stderr",
     "output_type": "stream",
     "text": [
      " 88%|████████▊ | 44/50 [03:25<00:27,  4.66s/it]"
     ]
    },
    {
     "name": "stdout",
     "output_type": "stream",
     "text": [
      "tensor([28.9812,  1.6295], dtype=torch.float64) tensor([0.5882, 0.4212], dtype=torch.float64)\n"
     ]
    },
    {
     "name": "stderr",
     "output_type": "stream",
     "text": [
      " 90%|█████████ | 45/50 [03:30<00:23,  4.66s/it]"
     ]
    },
    {
     "name": "stdout",
     "output_type": "stream",
     "text": [
      "tensor([29.0815,  1.7073], dtype=torch.float64) tensor([0.5631, 0.4016], dtype=torch.float64)\n"
     ]
    },
    {
     "name": "stderr",
     "output_type": "stream",
     "text": [
      " 92%|█████████▏| 46/50 [03:34<00:18,  4.67s/it]"
     ]
    },
    {
     "name": "stdout",
     "output_type": "stream",
     "text": [
      "tensor([29.1143,  1.7182], dtype=torch.float64) tensor([0.5535, 0.3967], dtype=torch.float64)\n"
     ]
    },
    {
     "name": "stderr",
     "output_type": "stream",
     "text": [
      " 94%|█████████▍| 47/50 [03:39<00:14,  4.67s/it]"
     ]
    },
    {
     "name": "stdout",
     "output_type": "stream",
     "text": [
      "tensor([29.1860,  1.7666], dtype=torch.float64) tensor([0.5408, 0.3881], dtype=torch.float64)\n"
     ]
    },
    {
     "name": "stderr",
     "output_type": "stream",
     "text": [
      " 96%|█████████▌| 48/50 [03:44<00:09,  4.66s/it]"
     ]
    },
    {
     "name": "stdout",
     "output_type": "stream",
     "text": [
      "tensor([29.0595,  1.6611], dtype=torch.float64) tensor([0.5162, 0.3693], dtype=torch.float64)\n"
     ]
    },
    {
     "name": "stderr",
     "output_type": "stream",
     "text": [
      " 98%|█████████▊| 49/50 [03:48<00:04,  4.67s/it]"
     ]
    },
    {
     "name": "stdout",
     "output_type": "stream",
     "text": [
      "tensor([29.0423,  1.6362], dtype=torch.float64) tensor([0.5085, 0.3646], dtype=torch.float64)\n"
     ]
    },
    {
     "name": "stderr",
     "output_type": "stream",
     "text": [
      "100%|██████████| 50/50 [03:53<00:00,  4.67s/it]"
     ]
    },
    {
     "name": "stdout",
     "output_type": "stream",
     "text": [
      "tensor([28.9990,  1.5986], dtype=torch.float64) tensor([0.4927, 0.3540], dtype=torch.float64)\n"
     ]
    },
    {
     "name": "stderr",
     "output_type": "stream",
     "text": [
      "\n"
     ]
    }
   ],
   "source": [
    "# print(data['params'][test_idx[idx_plot]])\n",
    "with torch.no_grad():\n",
    "    print(steer.particle_filter.mean().detach().cpu(), steer.particle_filter.std().detach().cpu()) \n",
    "    for i in tqdm(range(50)):\n",
    "        steer.step_steer()\n",
    "        print(steer.particle_filter.mean(), steer.particle_filter.std())\n",
    "        mean_list.append(steer.particle_filter.mean().detach().cpu())\n",
    "        std_list.append(steer.particle_filter.std().detach().cpu())\n",
    "    \n",
    "    # print(steer.particle_filter.positions[:10])\n",
    "    # print(steer.particle_filter.weights[:10])"
   ]
  },
  {
   "cell_type": "code",
   "execution_count": 28,
   "metadata": {
    "tags": []
   },
   "outputs": [],
   "source": [
    "means = torch.vstack(mean_list).detach().numpy()[-25:]\n",
    "std_dev = torch.vstack(std_list).detach().numpy()[-25:]"
   ]
  },
  {
   "cell_type": "code",
   "execution_count": 29,
   "metadata": {
    "tags": []
   },
   "outputs": [
    {
     "data": {
      "image/png": "[encoded data removed]",
      "text/plain": [
       "<Figure size 640x480 with 1 Axes>"
      ]
     },
     "metadata": {},
     "output_type": "display_data"
    }
   ],
   "source": [
    "import numpy as np\n",
    "import matplotlib.pyplot as plt\n",
    "import matplotlib.patches as patches\n",
    "\n",
    "# Create some dummy data\n",
    "scale_factor = 0.25\n",
    "N = means.shape[0]\n",
    "# means = np.cumsum(np.random.randn(N, 2), axis=0)\n",
    "# stds = np.abs(np.random.randn(N, 2))\n",
    "\n",
    "# Visualization\n",
    "fig, ax = plt.subplots()\n",
    "\n",
    "cmap = plt.get_cmap('Blues')\n",
    "colors = [cmap(i) for i in np.linspace(0.2, 1, N)]\n",
    "\n",
    "# Plot the evolution of the points with colormap\n",
    "for i in range(N-1):\n",
    "    ax.plot(means[i:i+2, 0], means[i:i+2, 1], '-o', color=colors[i], markersize=4)\n",
    "\n",
    "\n",
    "# # Plot ovals for standard deviation\n",
    "# for i in range(N):\n",
    "#     ellipse = patches.Ellipse((means[i, 0], means[i, 1]),\n",
    "#                               width=std_dev[i, 0]*scale_factor,  \n",
    "#                               height=std_dev[i, 1]*scale_factor,\n",
    "#                               edgecolor=None, facecolor=colors[i], alpha=0.2)  \n",
    "#     ax.add_patch(ellipse)\n",
    "\n",
    "ax.plot(29.0, 1.68, '*', label='Ground Truth', markersize=10, color='red')\n",
    "\n",
    "ax.set_title('Evolution of 2D points with standard deviation')\n",
    "ax.set_xlabel('$J$')\n",
    "ax.set_ylabel('$J_{p}$')\n",
    "# ax.set_xlim(20, 40)\n",
    "# ax.set_ylim(-5, 5)\n",
    "ax.legend()\n",
    "\n",
    "plt.tight_layout()\n",
    "plt.show()\n"
   ]
  },
  {
   "cell_type": "code",
   "execution_count": 27,
   "metadata": {
    "tags": []
   },
   "outputs": [
    {
     "data": {
      "text/plain": [
       "[<matplotlib.lines.Line2D at 0x7f2b55219d00>]"
      ]
     },
     "execution_count": 27,
     "metadata": {},
     "output_type": "execute_result"
    },
    {
     "data": {
      "image/png": "[encoded data removed]",
      "text/plain": [
       "<Figure size 640x480 with 2 Axes>"
      ]
     },
     "metadata": {},
     "output_type": "display_data"
    }
   ],
   "source": [
    "fig, axes = plt.subplots(2,1)\n",
    "axes[0].plot(torch.stack(steer.sig_bkg_factors).numpy()[:,0])\n",
    "axes[1].plot(torch.stack(steer.sig_bkg_factors).numpy()[:,1])"
   ]
  }
 ],
 "metadata": {
  "kernelspec": {
   "display_name": "inxs",
   "language": "python",
   "name": "inxs"
  },
  "language_info": {
   "codemirror_mode": {
    "name": "ipython",
    "version": 3
   },
   "file_extension": ".py",
   "mimetype": "text/x-python",
   "name": "python",
   "nbconvert_exporter": "python",
   "pygments_lexer": "ipython3",
   "version": "3.9.17"
  }
 },
 "nbformat": 4,
 "nbformat_minor": 4
}
