{
 "cells": [
  {
   "cell_type": "code",
   "execution_count": 23,
   "metadata": {
    "tags": []
   },
   "outputs": [],
   "source": [
    "import matplotlib.pyplot as plt\n",
    "import numpy as np\n",
    "import scipy.io\n",
    "import torch\n",
    "\n",
    "def safe_float_conversion(data):\n",
    "    try:\n",
    "        return data.astype(float)\n",
    "    except ValueError:\n",
    "        # Handle or log the exception if needed\n",
    "        return data\n",
    "\n",
    "def recursively_convert_to_float(data):\n",
    "    # Check if data is a numpy array (which includes structured arrays and nested arrays)\n",
    "    if isinstance(data, np.ndarray):\n",
    "        if data.dtype == 'O':  # For object type arrays, iterate over each element\n",
    "            return np.array([recursively_convert_to_float(item.squeeze()) for item in data], dtype=float)\n",
    "        else:  # Directly convert to float for other numeric types\n",
    "            return data.astype(float)\n",
    "    else:  # Base case for non-array data\n",
    "        return float(data)"
   ]
  },
  {
   "cell_type": "code",
   "execution_count": 24,
   "metadata": {
    "tags": []
   },
   "outputs": [],
   "source": [
    "incident_energy = 190"
   ]
  },
  {
   "cell_type": "code",
   "execution_count": 25,
   "metadata": {
    "tags": []
   },
   "outputs": [],
   "source": [
    "exp_mat = scipy.io.loadmat(f'/pscratch/sd/z/zhantao/inxs_steering/experiment_data/Data_folded{incident_energy:d}meV.mat')"
   ]
  },
  {
   "cell_type": "code",
   "execution_count": 26,
   "metadata": {
    "tags": []
   },
   "outputs": [],
   "source": [
    "flattened_data = exp_mat['data'][0][0].copy()"
   ]
  },
  {
   "cell_type": "code",
   "execution_count": 27,
   "metadata": {
    "tags": []
   },
   "outputs": [],
   "source": [
    "dict_out = {}\n",
    "\n",
    "for name in flattened_data.dtype.names:\n",
    "    if name == 's':\n",
    "        dict_out['S'] = torch.from_numpy(flattened_data[name].astype(float))\n",
    "    elif name == 'p':\n",
    "        dict_out['grid'] = {}\n",
    "        for _key, _array in zip(['h_grid', 'k_grid', 'l_grid', 'w_grid'], flattened_data[name][0]):\n",
    "            dict_out['grid'][_key] = torch.from_numpy((_array.astype(float)[:-1] + _array.astype(float)[1:]).squeeze() / 2)"
   ]
  },
  {
   "cell_type": "code",
   "execution_count": 28,
   "metadata": {
    "tags": []
   },
   "outputs": [],
   "source": [
    "w_cutoff = 200\n",
    "_w_grid = dict_out['grid']['w_grid']\n",
    "dict_out['grid']['w_grid'] = _w_grid[_w_grid <= w_cutoff]\n",
    "dict_out['S'] = dict_out['S'][...,_w_grid <= w_cutoff]"
   ]
  },
  {
   "cell_type": "code",
   "execution_count": 29,
   "metadata": {
    "tags": []
   },
   "outputs": [
    {
     "name": "stdout",
     "output_type": "stream",
     "text": [
      "torch.Size([61, 120, 29, 61])\n"
     ]
    }
   ],
   "source": [
    "h_grid = dict_out['grid']['h_grid']\n",
    "k_grid = dict_out['grid']['k_grid']\n",
    "l_grid = dict_out['grid']['l_grid']\n",
    "w_grid = dict_out['grid']['w_grid']\n",
    "\n",
    "sqw_base = dict_out['S']\n",
    "\n",
    "print(sqw_base.shape)"
   ]
  },
  {
   "cell_type": "code",
   "execution_count": 31,
   "metadata": {},
   "outputs": [
    {
     "data": {
      "text/plain": [
       "tensor([0.0000, 0.0333, 0.0667, 0.1000, 0.1333, 0.1667, 0.2000, 0.2333, 0.2667,\n",
       "        0.3000, 0.3333, 0.3667, 0.4000, 0.4333, 0.4667, 0.5000, 0.5333, 0.5667,\n",
       "        0.6000, 0.6333, 0.6667, 0.7000, 0.7333, 0.7667, 0.8000, 0.8333, 0.8667,\n",
       "        0.9000, 0.9333, 0.9667, 1.0000, 1.0333, 1.0667, 1.1000, 1.1333, 1.1667,\n",
       "        1.2000, 1.2333, 1.2667, 1.3000, 1.3333, 1.3667, 1.4000, 1.4333, 1.4667,\n",
       "        1.5000, 1.5333, 1.5667, 1.6000, 1.6333, 1.6667, 1.7000, 1.7333, 1.7667,\n",
       "        1.8000, 1.8333, 1.8667, 1.9000, 1.9333, 1.9667, 2.0000],\n",
       "       dtype=torch.float64)"
      ]
     },
     "execution_count": 31,
     "metadata": {},
     "output_type": "execute_result"
    }
   ],
   "source": [
    "h_grid"
   ]
  },
  {
   "cell_type": "code",
   "execution_count": 32,
   "metadata": {},
   "outputs": [
    {
     "data": {
      "text/plain": [
       "tensor([-1.9667, -1.9333, -1.9000, -1.8667, -1.8333, -1.8000, -1.7667, -1.7333,\n",
       "        -1.7000, -1.6667, -1.6333, -1.6000, -1.5667, -1.5333, -1.5000, -1.4667,\n",
       "        -1.4333, -1.4000, -1.3667, -1.3333, -1.3000, -1.2667, -1.2333, -1.2000,\n",
       "        -1.1667, -1.1333, -1.1000, -1.0667, -1.0333, -1.0000, -0.9667, -0.9333,\n",
       "        -0.9000, -0.8667, -0.8333, -0.8000, -0.7667, -0.7333, -0.7000, -0.6667,\n",
       "        -0.6333, -0.6000, -0.5667, -0.5333, -0.5000, -0.4667, -0.4333, -0.4000,\n",
       "        -0.3667, -0.3333, -0.3000, -0.2667, -0.2333, -0.2000, -0.1667, -0.1333,\n",
       "        -0.1000, -0.0667, -0.0333,  0.0000,  0.0333,  0.0667,  0.1000,  0.1333,\n",
       "         0.1667,  0.2000,  0.2333,  0.2667,  0.3000,  0.3333,  0.3667,  0.4000,\n",
       "         0.4333,  0.4667,  0.5000,  0.5333,  0.5667,  0.6000,  0.6333,  0.6667,\n",
       "         0.7000,  0.7333,  0.7667,  0.8000,  0.8333,  0.8667,  0.9000,  0.9333,\n",
       "         0.9667,  1.0000,  1.0333,  1.0667,  1.1000,  1.1333,  1.1667,  1.2000,\n",
       "         1.2333,  1.2667,  1.3000,  1.3333,  1.3667,  1.4000,  1.4333,  1.4667,\n",
       "         1.5000,  1.5333,  1.5667,  1.6000,  1.6333,  1.6667,  1.7000,  1.7333,\n",
       "         1.7667,  1.8000,  1.8333,  1.8667,  1.9000,  1.9333,  1.9667,  2.0000],\n",
       "       dtype=torch.float64)"
      ]
     },
     "execution_count": 32,
     "metadata": {},
     "output_type": "execute_result"
    }
   ],
   "source": [
    "k_grid"
   ]
  },
  {
   "cell_type": "code",
   "execution_count": 33,
   "metadata": {
    "tags": []
   },
   "outputs": [
    {
     "name": "stdout",
     "output_type": "stream",
     "text": [
      "torch.Size([121, 120, 29, 61])\n"
     ]
    }
   ],
   "source": [
    "if incident_energy == 260:\n",
    "    sqw_fold = torch.zeros((len(h_grid)-1)*2 + 1, len(k_grid), len(l_grid), len(w_grid))\n",
    "    print(sqw_fold.shape)\n",
    "\n",
    "    sqw_fold[sqw_fold.shape[0]//2:, :] = sqw_base\n",
    "    sqw_fold[:, sqw_fold.shape[1]//2:] += sqw_base[:,:].permute(1, 0, 2, 3)\n",
    "    sqw_fold += sqw_fold.flip(0).flip(1)\n",
    "\n",
    "    for i in range(sqw_fold.shape[0]):\n",
    "        # Flipped diagonal (or anti-diagonal)\n",
    "        sqw_fold[i, i] /= 2\n",
    "        sqw_fold[i, sqw_fold.shape[0]-i-1] /= 2\n",
    "elif incident_energy == 190:\n",
    "    sqw_fold = torch.zeros((len(h_grid)-1)*2 + 1, len(k_grid), len(l_grid), len(w_grid))\n",
    "    print(sqw_fold.shape)\n",
    "\n",
    "    sqw_fold[sqw_fold.shape[0]//2:, :] = sqw_base\n",
    "    # sqw_fold[:, sqw_fold.shape[1]//2:] += sqw_base[:,:].permute(1, 0, 2, 3)\n",
    "    # sqw_fold += sqw_fold.flip(0).flip(1)\n",
    "\n",
    "    # for i in range(sqw_fold.shape[0]):\n",
    "    #     # Flipped diagonal (or anti-diagonal)\n",
    "    #     sqw_fold[i, i] /= 2\n",
    "    #     sqw_fold[i, sqw_fold.shape[0]-i-1] /= 2"
   ]
  },
  {
   "cell_type": "code",
   "execution_count": 34,
   "metadata": {},
   "outputs": [
    {
     "data": {
      "text/plain": [
       "Text(0, 0.5, '$k$')"
      ]
     },
     "execution_count": 34,
     "metadata": {},
     "output_type": "execute_result"
    },
    {
     "data": {
      "image/png": "[encoded data removed]",
      "text/plain": [
       "<Figure size 640x480 with 1 Axes>"
      ]
     },
     "metadata": {},
     "output_type": "display_data"
    }
   ],
   "source": [
    "\n",
    "sqw_fold_mean = sqw_fold.sum(dim=-1).sum(dim=-1) / ((sqw_fold > 1e-10).sum(dim=-1).sum(dim=-1))\n",
    "fig, ax = plt.subplots(1, 1, sharey=True)\n",
    "ax.imshow(\n",
    "    sqw_fold_mean.T, \n",
    "    origin='lower', extent=[-2, 2, -2, 2])\n",
    "ax.set_xlabel('$h$')\n",
    "ax.set_ylabel('$k$')"
   ]
  },
  {
   "cell_type": "code",
   "execution_count": 12,
   "metadata": {},
   "outputs": [],
   "source": [
    "if incident_energy == 260:\n",
    "    h_grid_updated = torch.cat([-h_grid[1:].flip(dims=(0,)), h_grid], dim=0)\n",
    "    k_grid_updated = k_grid\n",
    "elif incident_energy == 190:\n",
    "    h_grid_updated = torch.cat([-h_grid[1:-1].flip(dims=(0,)), h_grid[:-1]], dim=0)\n",
    "    k_grid_updated = k_grid[:-1]\n",
    "\n",
    "dict_save = {\n",
    "    'grid': {\n",
    "        'h_grid': h_grid_updated,\n",
    "        'k_grid': k_grid_updated,\n",
    "        'l_grid': l_grid,\n",
    "        'w_grid': dict_out['grid']['w_grid']\n",
    "    },\n",
    "    'S': sqw_fold,\n",
    "}"
   ]
  },
  {
   "cell_type": "code",
   "execution_count": 12,
   "metadata": {},
   "outputs": [],
   "source": [
    "# torch.save(dict_save, f'/pscratch/sd/z/zhantao/inxs_steering/experiment_data/summarized_neutron_data_{incident_energy:d}meV.pt')"
   ]
  }
 ],
 "metadata": {
  "kernelspec": {
   "display_name": "Python 3 (ipykernel)",
   "language": "python",
   "name": "python3"
  },
  "language_info": {
   "codemirror_mode": {
    "name": "ipython",
    "version": 3
   },
   "file_extension": ".py",
   "mimetype": "text/x-python",
   "name": "python",
   "nbconvert_exporter": "python",
   "pygments_lexer": "ipython3",
   "version": "3.9.17"
  }
 },
 "nbformat": 4,
 "nbformat_minor": 4
}
