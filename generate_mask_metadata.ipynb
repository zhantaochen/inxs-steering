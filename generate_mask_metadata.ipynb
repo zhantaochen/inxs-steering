{
 "cells": [
  {
   "cell_type": "code",
   "execution_count": null,
   "metadata": {},
   "outputs": [],
   "source": [
    "%load_ext autoreload\n",
    "%autoreload 2\n",
    "\n",
    "import glob, os, re, pickle\n",
    "import sys\n",
    "import torch\n",
    "\n",
    "import numpy as np\n",
    "\n",
    "from inxss import PsiMask\n",
    "map_path = '/pscratch/sd/z/zhantao/inxs_steering/La2NiO4_bool'\n",
    "\n",
    "_h_grid = np.linspace(-6, 6, 121, endpoint=True)\n",
    "_k_grid = np.linspace(-6, 6, 121, endpoint=True)\n",
    "_l_grid = np.linspace(-22, 22, 111, endpoint=True)\n",
    "_e_grid = np.linspace(0, 260, 131, endpoint=True)\n",
    "h_grid = (_h_grid[:-1] + _h_grid[1:]) / 2\n",
    "k_grid = (_k_grid[:-1] + _k_grid[1:]) / 2\n",
    "l_grid = (_l_grid[:-1] + _l_grid[1:]) / 2\n",
    "e_grid = (_e_grid[:-1] + _e_grid[1:]) / 2\n",
    "with open(os.path.join(map_path, 'metadata'), 'wb') as f:\n",
    "    pickle.dump(\n",
    "        {\n",
    "            'h_grid': h_grid,\n",
    "            'k_grid': k_grid,\n",
    "            'l_grid': l_grid,\n",
    "            'e_grid': e_grid,  \n",
    "        }, f\n",
    "    )"
   ]
  }
 ],
 "metadata": {
  "language_info": {
   "name": "python"
  },
  "orig_nbformat": 4
 },
 "nbformat": 4,
 "nbformat_minor": 2
}
