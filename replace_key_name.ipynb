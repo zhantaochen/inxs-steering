{
 "cells": [
  {
   "cell_type": "code",
   "execution_count": 1,
   "id": "ca03f7d1-2141-4fd2-8acc-b0a25abb37da",
   "metadata": {
    "tags": []
   },
   "outputs": [],
   "source": [
    "import pickle"
   ]
  },
  {
   "cell_type": "code",
   "execution_count": 17,
   "id": "ac82ab37-ff3d-40eb-812d-92143905ebf8",
   "metadata": {
    "tags": []
   },
   "outputs": [
    {
     "name": "stdout",
     "output_type": "stream",
     "text": [
      "dict_keys(['h_grid', 'k_grid', 'l_grid', 'w_grid'])\n"
     ]
    }
   ],
   "source": [
    "with open('/pscratch/sd/z/zhantao/inxs_steering/La2NiO4_bool/metadata', 'rb') as f:\n",
    "    data = pickle.load(f)\n",
    "print(data.keys())"
   ]
  },
  {
   "cell_type": "code",
   "execution_count": null,
   "id": "4d7a7df0-f766-4241-9d3a-1bd9d0c38308",
   "metadata": {},
   "outputs": [],
   "source": []
  },
  {
   "cell_type": "code",
   "execution_count": 13,
   "id": "1f08327d-2894-45d4-a817-5bf01640ed03",
   "metadata": {
    "tags": []
   },
   "outputs": [],
   "source": [
    "# new_metadata = {}\n",
    "# for _key in data.keys():\n",
    "#     if _key == 'e_grid':\n",
    "#         new_metadata['w_grid'] = data['e_grid']\n",
    "#     else:\n",
    "#         new_metadata[_key] = data[_key]"
   ]
  },
  {
   "cell_type": "code",
   "execution_count": 16,
   "id": "42ed6b20-dd56-400d-a319-af4f2d329cbd",
   "metadata": {
    "tags": []
   },
   "outputs": [],
   "source": [
    "# with open('/pscratch/sd/z/zhantao/inxs_steering/La2NiO4_bool/metadata', 'wb') as f:\n",
    "#     pickle.dump(new_metadata, f)"
   ]
  }
 ],
 "metadata": {
  "kernelspec": {
   "display_name": "sqt",
   "language": "python",
   "name": "sqt"
  },
  "language_info": {
   "codemirror_mode": {
    "name": "ipython",
    "version": 3
   },
   "file_extension": ".py",
   "mimetype": "text/x-python",
   "name": "python",
   "nbconvert_exporter": "python",
   "pygments_lexer": "ipython3",
   "version": "3.9.16"
  }
 },
 "nbformat": 4,
 "nbformat_minor": 5
}
