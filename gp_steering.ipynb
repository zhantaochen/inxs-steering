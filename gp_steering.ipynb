{
 "cells": [
  {
   "cell_type": "code",
   "execution_count": 70,
   "metadata": {},
   "outputs": [],
   "source": [
    "import math\n",
    "import torch\n",
    "import gpytorch\n",
    "from matplotlib import pyplot as plt\n",
    "import numpy as np\n",
    "\n",
    "%matplotlib inline"
   ]
  },
  {
   "cell_type": "code",
   "execution_count": 71,
   "metadata": {},
   "outputs": [],
   "source": [
    "num_particles = 1\n",
    "# train_x = torch.rand(100)\n",
    "train_x = torch.linspace(0, 1, 20)\n",
    "\n",
    "# train_y = torch.stack([\n",
    "#     torch.sin(train_x * (2 * math.pi)) + torch.randn(train_x.size()) * 0.2,\n",
    "#     torch.cos(train_x * (2 * math.pi)) + torch.randn(train_x.size()) * 0.2,\n",
    "# ], -1)\n",
    "\n",
    "def true_func(x):\n",
    "    return torch.cos(x * (2 * math.pi)) + 1 / 2 * torch.cos(4 * x * (2 * math.pi))\n",
    "\n",
    "train_y = (true_func(train_x) + torch.randn(train_x.size()) * 0.2)[:,None].repeat(1, num_particles)"
   ]
  },
  {
   "cell_type": "code",
   "execution_count": 72,
   "metadata": {},
   "outputs": [],
   "source": [
    "class BatchIndependentMultitaskGPModel(gpytorch.models.ExactGP):\n",
    "    def __init__(self, train_x, train_y, likelihood, num_particles=10):\n",
    "        super().__init__(train_x, train_y, likelihood)\n",
    "        self.mean_module = gpytorch.means.ConstantMean(batch_shape=torch.Size([num_particles]))\n",
    "        self.covar_module_rbf = gpytorch.kernels.ScaleKernel(\n",
    "            gpytorch.kernels.RBFKernel(batch_shape=torch.Size([num_particles])),\n",
    "            batch_shape=torch.Size([num_particles])\n",
    "        )\n",
    "        # for p in self.parameters():\n",
    "        #     p.data = torch.randn_like(p.data)\n",
    "            \n",
    "        self.fc = torch.nn.Sequential(\n",
    "            torch.nn.Linear(1, 10),\n",
    "            torch.nn.ReLU(),\n",
    "            torch.nn.Linear(10, 10),\n",
    "            torch.nn.ReLU(),\n",
    "            torch.nn.Linear(10, 5),\n",
    "        )\n",
    "        \n",
    "    def forward(self, x):\n",
    "        x = self.fc(x)\n",
    "        mean_x = self.mean_module(x)\n",
    "        covar_x = self.covar_module_rbf(x)\n",
    "        return gpytorch.distributions.MultitaskMultivariateNormal.from_batch_mvn(\n",
    "            gpytorch.distributions.MultivariateNormal(mean_x, covar_x)\n",
    "        )\n",
    "\n",
    "likelihood = gpytorch.likelihoods.MultitaskGaussianLikelihood(num_tasks=num_particles, noise_constraint=gpytorch.constraints.Interval(1e-3, 0.25))\n",
    "model = BatchIndependentMultitaskGPModel(train_x, train_y, likelihood, num_particles=num_particles)"
   ]
  },
  {
   "cell_type": "code",
   "execution_count": 73,
   "metadata": {},
   "outputs": [
    {
     "name": "stdout",
     "output_type": "stream",
     "text": [
      "Iter 1/50 - Loss: 1.709\n",
      "Iter 2/50 - Loss: 1.610\n",
      "Iter 3/50 - Loss: 1.338\n",
      "Iter 4/50 - Loss: 1.111\n",
      "Iter 5/50 - Loss: 1.003\n",
      "Iter 6/50 - Loss: 0.935\n",
      "Iter 7/50 - Loss: 0.950\n",
      "Iter 8/50 - Loss: 0.924\n",
      "Iter 9/50 - Loss: 0.960\n",
      "Iter 10/50 - Loss: 0.951\n",
      "Iter 11/50 - Loss: 0.875\n",
      "Iter 12/50 - Loss: 1.014\n",
      "Iter 13/50 - Loss: 0.855\n",
      "Iter 14/50 - Loss: 0.970\n",
      "Iter 15/50 - Loss: 0.863\n",
      "Iter 16/50 - Loss: 0.911\n",
      "Iter 17/50 - Loss: 0.901\n",
      "Iter 18/50 - Loss: 0.883\n",
      "Iter 19/50 - Loss: 0.886\n",
      "Iter 20/50 - Loss: 0.846\n",
      "Iter 21/50 - Loss: 0.866\n",
      "Iter 22/50 - Loss: 0.836\n",
      "Iter 23/50 - Loss: 0.854\n",
      "Iter 24/50 - Loss: 0.824\n",
      "Iter 25/50 - Loss: 0.840\n",
      "Iter 26/50 - Loss: 0.814\n",
      "Iter 27/50 - Loss: 0.823\n",
      "Iter 28/50 - Loss: 0.797\n",
      "Iter 29/50 - Loss: 0.811\n",
      "Iter 30/50 - Loss: 0.776\n",
      "Iter 31/50 - Loss: 0.800\n",
      "Iter 32/50 - Loss: 0.751\n",
      "Iter 33/50 - Loss: 0.769\n",
      "Iter 34/50 - Loss: 0.739\n",
      "Iter 35/50 - Loss: 0.726\n",
      "Iter 36/50 - Loss: 0.733\n",
      "Iter 37/50 - Loss: 0.703\n",
      "Iter 38/50 - Loss: 0.675\n",
      "Iter 39/50 - Loss: 0.699\n",
      "Iter 40/50 - Loss: 0.731\n",
      "Iter 41/50 - Loss: 0.738\n",
      "Iter 42/50 - Loss: 0.652\n",
      "Iter 43/50 - Loss: 0.607\n",
      "Iter 44/50 - Loss: 0.616\n",
      "Iter 45/50 - Loss: 0.695\n",
      "Iter 46/50 - Loss: 0.843\n",
      "Iter 47/50 - Loss: 0.599\n",
      "Iter 48/50 - Loss: 0.534\n",
      "Iter 49/50 - Loss: 0.629\n",
      "Iter 50/50 - Loss: 0.904\n"
     ]
    }
   ],
   "source": [
    "# this is for running the notebook in our testing framework\n",
    "import os\n",
    "smoke_test = ('CI' in os.environ)\n",
    "training_iterations = 2 if smoke_test else 50\n",
    "\n",
    "\n",
    "# Find optimal model hyperparameters\n",
    "model.train()\n",
    "likelihood.train()\n",
    "\n",
    "# Use the adam optimizer\n",
    "optimizer = torch.optim.Adam(model.parameters(), lr=0.1)  # Includes GaussianLikelihood parameters\n",
    "\n",
    "# \"Loss\" for GPs - the marginal log likelihood\n",
    "mll = gpytorch.mlls.ExactMarginalLogLikelihood(likelihood, model)\n",
    "\n",
    "for i in range(training_iterations):\n",
    "    optimizer.zero_grad()\n",
    "    output = model(train_x)\n",
    "    loss = -mll(output, train_y)\n",
    "    loss.backward()\n",
    "    print('Iter %d/%d - Loss: %.3f' % (i + 1, training_iterations, loss.item()))\n",
    "    optimizer.step()"
   ]
  },
  {
   "cell_type": "code",
   "execution_count": 74,
   "metadata": {},
   "outputs": [
    {
     "data": {
      "image/png": "[encoded data removed]",
      "text/plain": [
       "<Figure size 400x300 with 1 Axes>"
      ]
     },
     "metadata": {},
     "output_type": "display_data"
    }
   ],
   "source": [
    "# Set into eval mode\n",
    "model.eval()\n",
    "likelihood.eval()\n",
    "\n",
    "# Initialize plots\n",
    "f, axes = plt.subplots(1, 1, figsize=(4, 3))\n",
    "\n",
    "# Make predictions\n",
    "with torch.no_grad(), gpytorch.settings.fast_pred_var():\n",
    "    test_x = torch.linspace(0, 1, 101)\n",
    "    predictions = likelihood(model(test_x))\n",
    "    mean = predictions.mean\n",
    "    lower, upper = predictions.confidence_region()\n",
    "\n",
    "# This contains predictions for both tasks, flattened out\n",
    "# The first half of the predictions is for the first task\n",
    "# The second half is for the second task\n",
    "if not isinstance(axes, np.ndarray):\n",
    "    axes = np.array([axes])\n",
    "for i_ax, _ax in enumerate(axes):\n",
    "    # Plot training data as black stars\n",
    "    _ax.plot(test_x.detach().numpy(), true_func(test_x).detach().numpy(), 'k-')\n",
    "    # Plot training data as black stars\n",
    "    _ax.plot(train_x.detach().numpy(), train_y[:, i_ax].detach().numpy(), 'k*')\n",
    "    # Predictive mean as blue line\n",
    "    _ax.plot(test_x.numpy(), mean[:, i_ax].numpy(), 'b--')\n",
    "    # Shade in confidence\n",
    "    _ax.fill_between(test_x.numpy(), lower[:, i_ax].numpy(), upper[:, i_ax].numpy(), alpha=0.5)\n",
    "    _ax.set_ylim([-3, 3])\n",
    "    # if i_ax == 0:\n",
    "    #     _ax.legend(['Observed Data', 'Mean', 'Confidence'])\n",
    "    #     _ax.set_title('Observed Values (Likelihood)')\n",
    "\n",
    "None\n",
    "\n"
   ]
  },
  {
   "cell_type": "code",
   "execution_count": null,
   "metadata": {},
   "outputs": [],
   "source": []
  }
 ],
 "metadata": {
  "kernelspec": {
   "display_name": "xpfs",
   "language": "python",
   "name": "python3"
  },
  "language_info": {
   "codemirror_mode": {
    "name": "ipython",
    "version": 3
   },
   "file_extension": ".py",
   "mimetype": "text/x-python",
   "name": "python",
   "nbconvert_exporter": "python",
   "pygments_lexer": "ipython3",
   "version": "3.9.16"
  },
  "orig_nbformat": 4
 },
 "nbformat": 4,
 "nbformat_minor": 2
}
