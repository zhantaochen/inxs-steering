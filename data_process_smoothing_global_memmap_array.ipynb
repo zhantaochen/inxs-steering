{
 "cells": [
  {
   "cell_type": "code",
   "execution_count": 5,
   "metadata": {
    "tags": []
   },
   "outputs": [
    {
     "name": "stdout",
     "output_type": "stream",
     "text": [
      "The autoreload extension is already loaded. To reload it, use:\n",
      "  %reload_ext autoreload\n"
     ]
    }
   ],
   "source": [
    "%load_ext autoreload\n",
    "%autoreload 2\n",
    "\n",
    "import os, glob\n",
    "import matplotlib.pyplot as plt\n",
    "import numpy as np\n",
    "import torch\n",
    "from tqdm import tqdm"
   ]
  },
  {
   "cell_type": "code",
   "execution_count": 6,
   "metadata": {
    "tags": []
   },
   "outputs": [
    {
     "name": "stdout",
     "output_type": "stream",
     "text": [
      "dict_keys(['param', 'S'])\n"
     ]
    }
   ],
   "source": [
    "data_file = sorted(glob.glob('/pscratch/sd/z/zhantao/inxs_steering/smoothed_SpinW_data/sigma_0.75/*.pt'))\n",
    "_example_data = torch.load(data_file[0])\n",
    "print(_example_data.keys())"
   ]
  },
  {
   "cell_type": "code",
   "execution_count": 3,
   "metadata": {
    "tags": []
   },
   "outputs": [],
   "source": [
    "S_shape = (len(data_file),) + tuple(_example_data['S'].shape)\n",
    "S_filename = \"/pscratch/sd/z/zhantao/inxs_steering/smoothed_SpinW_data/memmap_datasets/S_sigma_0.75.dat\"\n",
    "\n",
    "# Create a memmap array with uninitialized values\n",
    "mmapped_data = np.memmap(S_filename, dtype=np.float32, mode='w+', shape=S_shape)"
   ]
  },
  {
   "cell_type": "code",
   "execution_count": 4,
   "metadata": {
    "tags": []
   },
   "outputs": [
    {
     "name": "stderr",
     "output_type": "stream",
     "text": [
      "100%|██████████| 600/600 [18:50<00:00,  1.88s/it]\n"
     ]
    }
   ],
   "source": [
    "for idx, _file in tqdm(enumerate(data_file), total=len(data_file)):\n",
    "    tensor = torch.load(_file)['S']\n",
    "    mmapped_data[idx] = tensor.numpy()"
   ]
  },
  {
   "cell_type": "code",
   "execution_count": 10,
   "metadata": {
    "tags": []
   },
   "outputs": [],
   "source": [
    "param_list = []\n",
    "for idx, _file in tqdm(enumerate(data_file), total=len(data_file)):\n",
    "    param_list.append(torch.load(_file)['param'].numpy())\n",
    "\n",
    "torch.save(torch.from_numpy(np.stack(param_list)), \"/pscratch/sd/z/zhantao/inxs_steering/smoothed_SpinW_data/memmap_datasets/param_sigma_0.75.pt\")"
   ]
  },
  {
   "cell_type": "code",
   "execution_count": 11,
   "metadata": {
    "tags": []
   },
   "outputs": [
    {
     "data": {
      "text/plain": [
       "(600, 121, 121, 41, 86)"
      ]
     },
     "execution_count": 11,
     "metadata": {},
     "output_type": "execute_result"
    }
   ],
   "source": [
    "S_shape"
   ]
  },
  {
   "cell_type": "code",
   "execution_count": 12,
   "metadata": {
    "tags": []
   },
   "outputs": [],
   "source": [
    "torch.save({\"S_shape\": S_shape}, \"/pscratch/sd/z/zhantao/inxs_steering/smoothed_SpinW_data/memmap_datasets/S_shape.pt\")"
   ]
  }
 ],
 "metadata": {
  "kernelspec": {
   "display_name": "inxs",
   "language": "python",
   "name": "inxs"
  },
  "language_info": {
   "codemirror_mode": {
    "name": "ipython",
    "version": 3
   },
   "file_extension": ".py",
   "mimetype": "text/x-python",
   "name": "python",
   "nbconvert_exporter": "python",
   "pygments_lexer": "ipython3",
   "version": "3.9.17"
  },
  "vscode": {
   "interpreter": {
    "hash": "5052baf4b4c0838cc6270f5e2fe5f0213614a9355e911845df0f7a2894f526ec"
   }
  }
 },
 "nbformat": 4,
 "nbformat_minor": 4
}
