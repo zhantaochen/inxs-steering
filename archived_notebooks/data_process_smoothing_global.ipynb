{
 "cells": [
  {
   "cell_type": "code",
   "execution_count": 1,
   "metadata": {
    "tags": []
   },
   "outputs": [],
   "source": [
    "%load_ext autoreload\n",
    "%autoreload 2\n",
    "\n",
    "import os, glob\n",
    "import matplotlib.pyplot as plt\n",
    "import numpy as np\n",
    "import re\n",
    "from tqdm import tqdm\n",
    "import torch\n",
    "from scipy.ndimage import gaussian_filter\n",
    "\n",
    "from inxss import calc_Sqw_from_SpinW_results\n",
    "from inxss.experiment import SimulatedExperiment"
   ]
  },
  {
   "cell_type": "code",
   "execution_count": 2,
   "metadata": {
    "tags": []
   },
   "outputs": [],
   "source": [
    "data = torch.load('/pscratch/sd/z/zhantao/inxs_steering/SpinW_data/summarized_AFM_data_2023Sep13.pt')"
   ]
  },
  {
   "cell_type": "code",
   "execution_count": 3,
   "metadata": {
    "tags": []
   },
   "outputs": [
    {
     "data": {
      "text/plain": [
       "dict_keys(['Syy', 'Szz', 'S', 'w_grid', 'q_grid', 'params'])"
      ]
     },
     "execution_count": 3,
     "metadata": {},
     "output_type": "execute_result"
    }
   ],
   "source": [
    "data.keys()"
   ]
  },
  {
   "cell_type": "code",
   "execution_count": 5,
   "metadata": {
    "tags": []
   },
   "outputs": [],
   "source": [
    "grid_info = {\n",
    "    'h_grid': [-2.0, 2.0, 121],\n",
    "    'k_grid': [-2.0, 2.0, 121],\n",
    "    'l_grid': [-10.0,10.0, 41],\n",
    "    'w_grid': [20.0, 190.0, 86]\n",
    "}\n",
    "\n",
    "\n",
    "for key, val in grid_info.items():\n",
    "    exec(f'{key}=np.linspace(*val)')\n",
    "    \n",
    "hklw_grid = np.moveaxis(np.stack(np.meshgrid(h_grid, k_grid, l_grid, w_grid, indexing='ij'), axis=0), 0, -1)\n",
    "\n",
    "# grid_info['hklw_grid'] = torch.from_numpy(hklw_grid)\n",
    "\n",
    "torch.save(\n",
    "    grid_info, '/pscratch/sd/z/zhantao/inxs_steering/smoothed_SpinW_data/sigma_0.75/grid_metadata'\n",
    ")"
   ]
  },
  {
   "cell_type": "code",
   "execution_count": 5,
   "metadata": {
    "tags": []
   },
   "outputs": [
    {
     "name": "stderr",
     "output_type": "stream",
     "text": [
      "100%|██████████| 600/600 [3:51:20<00:00, 23.13s/it]  \n"
     ]
    }
   ],
   "source": [
    "for idx in tqdm(range(data['params'].shape[0])):\n",
    "\n",
    "    sim_exp = SimulatedExperiment(\n",
    "        q_grid = data['q_grid'],\n",
    "        w_grid = data['w_grid'],\n",
    "        Syy_grid = data['Syy'][idx],\n",
    "        Szz_grid = data['Szz'][idx]\n",
    "    )\n",
    "\n",
    "    sim_exp.prepare_experiment(torch.from_numpy(hklw_grid))\n",
    "\n",
    "    sqw_sm = sim_exp.Sqw.numpy().copy()\n",
    "\n",
    "    sqw_sm = gaussian_filter(sqw_sm, 0.75)\n",
    "\n",
    "    _data_save = {\n",
    "        'param': data['params'][idx],\n",
    "        'S': torch.from_numpy(sqw_sm).float()\n",
    "    }\n",
    "\n",
    "    torch.save(\n",
    "        _data_save, f'/pscratch/sd/z/zhantao/inxs_steering/smoothed_SpinW_data/sigma_0.75/sample_{idx:03d}.pt'\n",
    "    )"
   ]
  }
 ],
 "metadata": {
  "kernelspec": {
   "display_name": "inxs",
   "language": "python",
   "name": "inxs"
  },
  "language_info": {
   "codemirror_mode": {
    "name": "ipython",
    "version": 3
   },
   "file_extension": ".py",
   "mimetype": "text/x-python",
   "name": "python",
   "nbconvert_exporter": "python",
   "pygments_lexer": "ipython3",
   "version": "3.9.17"
  },
  "vscode": {
   "interpreter": {
    "hash": "5052baf4b4c0838cc6270f5e2fe5f0213614a9355e911845df0f7a2894f526ec"
   }
  }
 },
 "nbformat": 4,
 "nbformat_minor": 4
}
