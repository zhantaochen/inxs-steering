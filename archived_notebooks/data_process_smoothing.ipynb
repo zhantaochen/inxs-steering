{
 "cells": [
  {
   "cell_type": "code",
   "execution_count": 1,
   "metadata": {
    "tags": []
   },
   "outputs": [],
   "source": [
    "%load_ext autoreload\n",
    "%autoreload 2\n",
    "\n",
    "import os, glob\n",
    "import matplotlib.pyplot as plt\n",
    "import numpy as np\n",
    "import re\n",
    "from tqdm import tqdm\n",
    "import torch\n",
    "\n",
    "from inxss import calc_Sqw_from_SpinW_results"
   ]
  },
  {
   "cell_type": "code",
   "execution_count": 2,
   "metadata": {
    "tags": []
   },
   "outputs": [],
   "source": [
    "data = torch.load('/pscratch/sd/z/zhantao/inxs_steering/SpinW_data/summarized_AFM_data_2023Sep13.pt')"
   ]
  },
  {
   "cell_type": "code",
   "execution_count": 3,
   "metadata": {
    "tags": []
   },
   "outputs": [
    {
     "data": {
      "text/plain": [
       "dict_keys(['Syy', 'Szz', 'S', 'w_grid', 'q_grid', 'params'])"
      ]
     },
     "execution_count": 3,
     "metadata": {},
     "output_type": "execute_result"
    }
   ],
   "source": [
    "data.keys()"
   ]
  },
  {
   "cell_type": "code",
   "execution_count": 4,
   "metadata": {
    "tags": []
   },
   "outputs": [],
   "source": [
    "from scipy.ndimage import gaussian_filter"
   ]
  },
  {
   "cell_type": "code",
   "execution_count": 5,
   "metadata": {
    "tags": []
   },
   "outputs": [],
   "source": [
    "s_sm = gaussian_filter(data['S'].reshape(data['S'].shape[:2]+(101,101)), sigma=0.75 * 100 / 15, mode='reflect', axes=(-2,-1))\n",
    "syy_sm = gaussian_filter(data['Syy'].reshape(data['Syy'].shape[:2]+(101,101)), sigma=0.75 * 100 / 15, mode='reflect', axes=(-2,-1))\n",
    "szz_sm = gaussian_filter(data['Szz'].reshape(data['Szz'].shape[:2]+(101,101)), sigma=0.75 * 100 / 15, mode='reflect', axes=(-2,-1))"
   ]
  },
  {
   "cell_type": "code",
   "execution_count": 6,
   "metadata": {
    "tags": []
   },
   "outputs": [],
   "source": [
    "data_smoothed = {key: val for (key, val) in data.items()}"
   ]
  },
  {
   "cell_type": "code",
   "execution_count": 7,
   "metadata": {
    "tags": []
   },
   "outputs": [],
   "source": [
    "data_smoothed['S'] = torch.from_numpy(s_sm).reshape(data['S'].shape[:2] + (-1,))\n",
    "data_smoothed['Syy'] = torch.from_numpy(syy_sm).reshape(data['Syy'].shape[:2] + (-1,))\n",
    "data_smoothed['Szz'] = torch.from_numpy(szz_sm).reshape(data['Szz'].shape[:2] + (-1,))"
   ]
  },
  {
   "cell_type": "code",
   "execution_count": 8,
   "metadata": {
    "tags": []
   },
   "outputs": [],
   "source": [
    "torch.save(\n",
    "    data_smoothed, '/pscratch/sd/z/zhantao/inxs_steering/SpinW_data/summarized_smoothed_AFM_data_2023Sep13.pt'\n",
    ")"
   ]
  }
 ],
 "metadata": {
  "kernelspec": {
   "display_name": "inxs",
   "language": "python",
   "name": "inxs"
  },
  "language_info": {
   "codemirror_mode": {
    "name": "ipython",
    "version": 3
   },
   "file_extension": ".py",
   "mimetype": "text/x-python",
   "name": "python",
   "nbconvert_exporter": "python",
   "pygments_lexer": "ipython3",
   "version": "3.9.17"
  },
  "vscode": {
   "interpreter": {
    "hash": "5052baf4b4c0838cc6270f5e2fe5f0213614a9355e911845df0f7a2894f526ec"
   }
  }
 },
 "nbformat": 4,
 "nbformat_minor": 4
}
