{
 "cells": [
  {
   "cell_type": "code",
   "execution_count": 1,
   "id": "ca03f7d1-2141-4fd2-8acc-b0a25abb37da",
   "metadata": {
    "tags": []
   },
   "outputs": [],
   "source": [
    "import pickle"
   ]
  },
  {
   "cell_type": "code",
   "execution_count": 2,
   "id": "ac82ab37-ff3d-40eb-812d-92143905ebf8",
   "metadata": {
    "tags": []
   },
   "outputs": [
    {
     "name": "stdout",
     "output_type": "stream",
     "text": [
      "dict_keys(['h_grid', 'k_grid', 'l_grid', 'w_grid'])\n"
     ]
    }
   ],
   "source": [
    "with open('/pscratch/sd/z/zhantao/inxs_steering/La2NiO4_bool/metadata', 'rb') as f:\n",
    "    data = pickle.load(f)\n",
    "print(data.keys())"
   ]
  },
  {
   "cell_type": "code",
   "execution_count": 5,
   "id": "4d7a7df0-f766-4241-9d3a-1bd9d0c38308",
   "metadata": {},
   "outputs": [
    {
     "data": {
      "text/plain": [
       "array([  1.,   3.,   5.,   7.,   9.,  11.,  13.,  15.,  17.,  19.,  21.,\n",
       "        23.,  25.,  27.,  29.,  31.,  33.,  35.,  37.,  39.,  41.,  43.,\n",
       "        45.,  47.,  49.,  51.,  53.,  55.,  57.,  59.,  61.,  63.,  65.,\n",
       "        67.,  69.,  71.,  73.,  75.,  77.,  79.,  81.,  83.,  85.,  87.,\n",
       "        89.,  91.,  93.,  95.,  97.,  99., 101., 103., 105., 107., 109.,\n",
       "       111., 113., 115., 117., 119., 121., 123., 125., 127., 129., 131.,\n",
       "       133., 135., 137., 139., 141., 143., 145., 147., 149., 151., 153.,\n",
       "       155., 157., 159., 161., 163., 165., 167., 169., 171., 173., 175.,\n",
       "       177., 179., 181., 183., 185., 187., 189., 191., 193., 195., 197.,\n",
       "       199., 201., 203., 205., 207., 209., 211., 213., 215., 217., 219.,\n",
       "       221., 223., 225., 227., 229., 231., 233., 235., 237., 239., 241.,\n",
       "       243., 245., 247., 249., 251., 253., 255., 257., 259.])"
      ]
     },
     "execution_count": 5,
     "metadata": {},
     "output_type": "execute_result"
    }
   ],
   "source": [
    "data['w_grid']"
   ]
  },
  {
   "cell_type": "code",
   "execution_count": 13,
   "id": "1f08327d-2894-45d4-a817-5bf01640ed03",
   "metadata": {
    "tags": []
   },
   "outputs": [],
   "source": [
    "# new_metadata = {}\n",
    "# for _key in data.keys():\n",
    "#     if _key == 'e_grid':\n",
    "#         new_metadata['w_grid'] = data['e_grid']\n",
    "#     else:\n",
    "#         new_metadata[_key] = data[_key]"
   ]
  },
  {
   "cell_type": "code",
   "execution_count": 16,
   "id": "42ed6b20-dd56-400d-a319-af4f2d329cbd",
   "metadata": {
    "tags": []
   },
   "outputs": [],
   "source": [
    "# with open('/pscratch/sd/z/zhantao/inxs_steering/La2NiO4_bool/metadata', 'wb') as f:\n",
    "#     pickle.dump(new_metadata, f)"
   ]
  }
 ],
 "metadata": {
  "kernelspec": {
   "display_name": "sqt",
   "language": "python",
   "name": "sqt"
  },
  "language_info": {
   "codemirror_mode": {
    "name": "ipython",
    "version": 3
   },
   "file_extension": ".py",
   "mimetype": "text/x-python",
   "name": "python",
   "nbconvert_exporter": "python",
   "pygments_lexer": "ipython3",
   "version": "3.9.16"
  }
 },
 "nbformat": 4,
 "nbformat_minor": 5
}
