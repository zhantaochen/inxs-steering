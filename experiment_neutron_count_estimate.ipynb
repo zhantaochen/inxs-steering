{
 "cells": [
  {
   "cell_type": "code",
   "execution_count": 1,
   "metadata": {
    "tags": []
   },
   "outputs": [],
   "source": [
    "import matplotlib.pyplot as plt\n",
    "import numpy as np\n",
    "import scipy.io\n",
    "import torch\n",
    "\n",
    "def safe_float_conversion(data):\n",
    "    try:\n",
    "        return data.astype(float)\n",
    "    except ValueError:\n",
    "        # Handle or log the exception if needed\n",
    "        return data\n",
    "\n",
    "def recursively_convert_to_float(data):\n",
    "    # Check if data is a numpy array (which includes structured arrays and nested arrays)\n",
    "    if isinstance(data, np.ndarray):\n",
    "        if data.dtype == 'O':  # For object type arrays, iterate over each element\n",
    "            return np.array([recursively_convert_to_float(item.squeeze()) for item in data], dtype=float)\n",
    "        else:  # Directly convert to float for other numeric types\n",
    "            return data.astype(float)\n",
    "    else:  # Base case for non-array data\n",
    "        return float(data)"
   ]
  },
  {
   "cell_type": "code",
   "execution_count": 2,
   "metadata": {
    "tags": []
   },
   "outputs": [],
   "source": [
    "exp_mat = scipy.io.loadmat(f'/pscratch/sd/z/zhantao/inxs_steering_production/mat_data/Data_folded260meV werr.mat')"
   ]
  },
  {
   "cell_type": "code",
   "execution_count": 3,
   "metadata": {},
   "outputs": [
    {
     "data": {
      "text/plain": [
       "dtype([('alatt', 'O'), ('angdeg', 'O'), ('uoffset', 'O'), ('u_to_rlu', 'O'), ('ulen', 'O'), ('p', 'O'), ('s', 'O'), ('e', 'O'), ('npix', 'O')])"
      ]
     },
     "execution_count": 3,
     "metadata": {},
     "output_type": "execute_result"
    }
   ],
   "source": [
    "exp_mat['data'][0,0].dtype"
   ]
  },
  {
   "cell_type": "code",
   "execution_count": 4,
   "metadata": {
    "tags": []
   },
   "outputs": [],
   "source": [
    "flattened_data = exp_mat['data'][0][0].copy()"
   ]
  },
  {
   "cell_type": "code",
   "execution_count": 8,
   "metadata": {
    "tags": []
   },
   "outputs": [],
   "source": [
    "dict_out = {}\n",
    "\n",
    "for name in flattened_data.dtype.names:\n",
    "    if name == 's':\n",
    "        dict_out['S'] = torch.from_numpy(flattened_data[name].astype(float))\n",
    "    elif name == 'e':\n",
    "        dict_out['E'] = torch.from_numpy(flattened_data[name].astype(float))\n",
    "    elif name == 'p':\n",
    "        dict_out['grid'] = {}\n",
    "        for _key, _array in zip(['h_grid', 'k_grid', 'l_grid', 'w_grid'], flattened_data[name][0]):\n",
    "            dict_out['grid'][_key] = torch.from_numpy((_array.astype(float)[:-1] + _array.astype(float)[1:]).squeeze() / 2)"
   ]
  },
  {
   "cell_type": "code",
   "execution_count": 14,
   "metadata": {},
   "outputs": [],
   "source": [
    "valid_E = dict_out['E']>0"
   ]
  },
  {
   "cell_type": "code",
   "execution_count": 24,
   "metadata": {},
   "outputs": [],
   "source": [
    "counts = (dict_out['S'] / (dict_out['E'] + 1e-6)).pow(2)"
   ]
  },
  {
   "cell_type": "code",
   "execution_count": 30,
   "metadata": {},
   "outputs": [
    {
     "data": {
      "text/plain": [
       "tensor(9687.0800, dtype=torch.float64)"
      ]
     },
     "execution_count": 30,
     "metadata": {},
     "output_type": "execute_result"
    }
   ],
   "source": [
    "counts.max()"
   ]
  },
  {
   "cell_type": "code",
   "execution_count": 31,
   "metadata": {},
   "outputs": [
    {
     "data": {
      "text/plain": [
       "tensor(1.9405e+08, dtype=torch.float64)"
      ]
     },
     "execution_count": 31,
     "metadata": {},
     "output_type": "execute_result"
    }
   ],
   "source": [
    "counts.sum()"
   ]
  },
  {
   "cell_type": "code",
   "execution_count": null,
   "metadata": {},
   "outputs": [
    {
     "data": {
      "text/plain": [
       "<matplotlib.image.AxesImage at 0x7f1a10d8a730>"
      ]
     },
     "metadata": {},
     "output_type": "display_data"
    },
    {
     "data": {
      "image/png": "[encoded data removed]",
      "text/plain": [
       "<Figure size 640x480 with 1 Axes>"
      ]
     },
     "metadata": {},
     "output_type": "display_data"
    }
   ],
   "source": [
    "plt.imshow(counts.sum(-1).sum(-1))"
   ]
  },
  {
   "cell_type": "code",
   "execution_count": 18,
   "metadata": {},
   "outputs": [
    {
     "data": {
      "text/plain": [
       "tensor(3.9800, dtype=torch.float64)"
      ]
     },
     "execution_count": 18,
     "metadata": {},
     "output_type": "execute_result"
    }
   ],
   "source": [
    "dict_out['S'][valid_E].mean()\n"
   ]
  }
 ],
 "metadata": {
  "kernelspec": {
   "display_name": "Python 3 (ipykernel)",
   "language": "python",
   "name": "python3"
  },
  "language_info": {
   "codemirror_mode": {
    "name": "ipython",
    "version": 3
   },
   "file_extension": ".py",
   "mimetype": "text/x-python",
   "name": "python",
   "nbconvert_exporter": "python",
   "pygments_lexer": "ipython3",
   "version": "3.9.17"
  }
 },
 "nbformat": 4,
 "nbformat_minor": 4
}
