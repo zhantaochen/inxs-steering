{
 "cells": [
  {
   "cell_type": "code",
   "execution_count": 1,
   "metadata": {
    "tags": []
   },
   "outputs": [
    {
     "name": "stderr",
     "output_type": "stream",
     "text": [
      "/global/homes/z/zhantao/.conda/envs/sqt/lib/python3.9/site-packages/tqdm/auto.py:22: TqdmWarning: IProgress not found. Please update jupyter and ipywidgets. See https://ipywidgets.readthedocs.io/en/stable/user_install.html\n",
      "  from .autonotebook import tqdm as notebook_tqdm\n"
     ]
    }
   ],
   "source": [
    "%load_ext autoreload\n",
    "%autoreload 2\n",
    "from inxss.utils_spectrum import calc_Sqw_from_Syy_Szz\n",
    "from inxss.experiment import SimulatedExperiment\n",
    "\n",
    "import torch\n",
    "import numpy as np\n",
    "from scipy.interpolate import RegularGridInterpolator\n",
    "\n",
    "from inxss import SpectrumDataset, SpecNeuralRepr, Particle, PsiMask\n",
    "\n",
    "import matplotlib.pyplot as plt\n",
    "\n",
    "device = torch.device(\"cuda:0\" if torch.cuda.is_available() else \"cpu\")"
   ]
  },
  {
   "cell_type": "code",
   "execution_count": 2,
   "metadata": {
    "tags": []
   },
   "outputs": [
    {
     "name": "stdout",
     "output_type": "stream",
     "text": [
      "dict_keys(['Syy', 'Szz', 'S', 'w_grid', 'q_grid', 'params'])\n"
     ]
    }
   ],
   "source": [
    "data = torch.load('/pscratch/sd/z/zhantao/inxs_steering/SpinW_data/summarized_AFM_data_2023Aug01.pt')\n",
    "print(data.keys())"
   ]
  },
  {
   "cell_type": "code",
   "execution_count": 3,
   "metadata": {
    "tags": []
   },
   "outputs": [
    {
     "name": "stderr",
     "output_type": "stream",
     "text": [
      "/global/homes/z/zhantao/.conda/envs/sqt/lib/python3.9/site-packages/pytorch_lightning/utilities/migration/utils.py:49: PossibleUserWarning: The loaded checkpoint was produced with Lightning v2.0.6, which is newer than your current Lightning version: v1.9.0\n",
      "  rank_zero_warn(\n"
     ]
    }
   ],
   "source": [
    "model = SpecNeuralRepr.load_from_checkpoint(\n",
    "    '/pscratch/sd/z/zhantao/inxs_steering/lightning_logs/version_13505970/checkpoints/last.ckpt'\n",
    "    )"
   ]
  },
  {
   "cell_type": "code",
   "execution_count": 4,
   "metadata": {
    "tags": []
   },
   "outputs": [],
   "source": [
    "prior_configs = {'types': ['uniform', 'uniform'], 'args': [{'low': 20, 'high': 40}, {'low': -5, 'high': 5}]}\n",
    "\n",
    "particle = Particle(1000, 2, prior_configs=prior_configs)"
   ]
  },
  {
   "cell_type": "code",
   "execution_count": 5,
   "metadata": {
    "tags": []
   },
   "outputs": [
    {
     "name": "stdout",
     "output_type": "stream",
     "text": [
      "h_grid\n",
      "k_grid\n",
      "l_grid\n",
      "w_grid\n"
     ]
    }
   ],
   "source": [
    "map_path = '/pscratch/sd/z/zhantao/inxs_steering/La2NiO4_bool'\n",
    "psi_mask = PsiMask(map_path, scale_factor=0.5, device='cpu', preload=False)"
   ]
  },
  {
   "cell_type": "code",
   "execution_count": null,
   "metadata": {
    "tags": []
   },
   "outputs": [],
   "source": [
    "%timeit psi_mask.get_mask(1)"
   ]
  }
 ],
 "metadata": {
  "kernelspec": {
   "display_name": "sqt",
   "language": "python",
   "name": "sqt"
  },
  "language_info": {
   "codemirror_mode": {
    "name": "ipython",
    "version": 3
   },
   "file_extension": ".py",
   "mimetype": "text/x-python",
   "name": "python",
   "nbconvert_exporter": "python",
   "pygments_lexer": "ipython3",
   "version": "3.9.16"
  }
 },
 "nbformat": 4,
 "nbformat_minor": 4
}
