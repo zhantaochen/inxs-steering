{
 "cells": [
  {
   "cell_type": "code",
   "execution_count": 1,
   "metadata": {
    "tags": []
   },
   "outputs": [],
   "source": [
    "%load_ext autoreload\n",
    "%autoreload 2\n",
    "from inxss.utils_spectrum import calc_Sqw_from_Syy_Szz\n",
    "from inxss.experiment import SimulatedExperiment\n",
    "\n",
    "import torch\n",
    "import numpy as np\n",
    "from scipy.interpolate import RegularGridInterpolator\n",
    "\n",
    "from inxss import SpectrumDataset, SpecNeuralRepr, Particle, PsiMask, OnlineVariance\n",
    "\n",
    "import matplotlib.pyplot as plt\n",
    "\n",
    "from tqdm import tqdm \n",
    "\n",
    "device = torch.device(\"cuda:0\" if torch.cuda.is_available() else \"cpu\")"
   ]
  },
  {
   "cell_type": "code",
   "execution_count": 2,
   "metadata": {
    "tags": []
   },
   "outputs": [
    {
     "name": "stdout",
     "output_type": "stream",
     "text": [
      "dict_keys(['Syy', 'Szz', 'S', 'w_grid', 'q_grid', 'params'])\n"
     ]
    }
   ],
   "source": [
    "data = torch.load('/pscratch/sd/z/zhantao/inxs_steering/SpinW_data/summarized_AFM_data_2023Aug01.pt')\n",
    "print(data.keys())"
   ]
  },
  {
   "cell_type": "code",
   "execution_count": 3,
   "metadata": {
    "tags": []
   },
   "outputs": [],
   "source": [
    "model = SpecNeuralRepr.load_from_checkpoint(\n",
    "    '/pscratch/sd/z/zhantao/inxs_steering/lightning_logs/version_14896839/checkpoints/epoch=2779-step=44480.ckpt'\n",
    "    ).to(device)"
   ]
  },
  {
   "cell_type": "code",
   "execution_count": 4,
   "metadata": {
    "tags": []
   },
   "outputs": [],
   "source": [
    "prior_configs = {'types': ['uniform', 'uniform'], 'args': [{'low': 20, 'high': 40}, {'low': -5, 'high': 5}]}\n",
    "\n",
    "particle = Particle(100, 2, prior_configs=prior_configs)\n",
    "particle.positions.data[:,0] = data['params'][0]"
   ]
  },
  {
   "cell_type": "code",
   "execution_count": 5,
   "metadata": {
    "tags": []
   },
   "outputs": [],
   "source": [
    "map_path = '/pscratch/sd/z/zhantao/inxs_steering/La2NiO4_bool'\n",
    "psi_mask = PsiMask(map_path, scale_factor=0.5, shrink_factor=0.5, device='cpu', preload=False)"
   ]
  },
  {
   "cell_type": "code",
   "execution_count": 6,
   "metadata": {
    "tags": []
   },
   "outputs": [
    {
     "name": "stderr",
     "output_type": "stream",
     "text": [
      "100%|██████████| 100/100 [00:03<00:00, 26.44it/s]\n"
     ]
    }
   ],
   "source": [
    "# output_stack = []\n",
    "var_calculator = OnlineVariance((np.prod(psi_mask.hkw_grid.shape[:-1]),1), device='cpu')\n",
    "with torch.no_grad():\n",
    "    for param in tqdm(particle.positions.T):\n",
    "        input = psi_mask.get_model_input(param).to(device)\n",
    "        output = model(input).view(-1, 1)\n",
    "        var_calculator.update(output.detach().cpu())\n",
    "        # output_stack.append(output.detach().cpu())"
   ]
  },
  {
   "cell_type": "code",
   "execution_count": 7,
   "metadata": {
    "tags": []
   },
   "outputs": [],
   "source": [
    "std = var_calculator.std_dev().view(psi_mask.hkw_grid.shape[:-1])"
   ]
  },
  {
   "cell_type": "code",
   "execution_count": null,
   "metadata": {
    "tags": []
   },
   "outputs": [
    {
     "name": "stderr",
     "output_type": "stream",
     "text": [
      " 24%|██▍       | 87/360 [01:31<04:48,  1.06s/it]"
     ]
    }
   ],
   "source": [
    "utility = []\n",
    "for _angle in tqdm(psi_mask.psi_grid):\n",
    "    _mask = psi_mask.get_mask(_angle)\n",
    "    utility.append((_mask.sum(dim=2) * std).mean())\n",
    "    "
   ]
  },
  {
   "cell_type": "code",
   "execution_count": null,
   "metadata": {},
   "outputs": [],
   "source": [
    "utility = torch.stack(utility)"
   ]
  },
  {
   "cell_type": "code",
   "execution_count": null,
   "metadata": {},
   "outputs": [],
   "source": [
    "fig, ax = plt.subplots(1,1)\n",
    "ax.plot(psi_mask.psi_grid, utility)\n",
    "ax.set_xlabel('angle')\n",
    "ax.set_ylabel('utility')"
   ]
  },
  {
   "cell_type": "code",
   "execution_count": null,
   "metadata": {},
   "outputs": [],
   "source": [
    "utility_diff = (utility - utility.min()) / (utility.max() - utility.min())"
   ]
  },
  {
   "cell_type": "code",
   "execution_count": null,
   "metadata": {},
   "outputs": [],
   "source": [
    "def arc_arrow(ax, start_angle=0., end_angle=np.pi/2, radius=1., arrow_size=0.05, color='k', lw=1.5, unit='degree', label=None):\n",
    "\n",
    "    if unit == 'degree':\n",
    "        start_angle = start_angle / 180. * np.pi\n",
    "        end_angle = end_angle / 180. * np.pi\n",
    "    base_angle = end_angle - arrow_size * np.sqrt(3) / radius\n",
    "    \n",
    "    # This draws the arc\n",
    "    theta = np.linspace(start_angle, base_angle, 100)\n",
    "    radii = radius * np.ones_like(theta)\n",
    "    ax.plot(theta, radii, lw=lw, color=color, zorder=30, clip_on=False)\n",
    "    \n",
    "    # Calculate vertices for the arrow tip\n",
    "    vertices = [(end_angle, radius), (base_angle, radius + arrow_size), (base_angle, radius - arrow_size)]\n",
    "\n",
    "    arrow = plt.Polygon(vertices, closed=True, color=color)\n",
    "    ax.add_patch(arrow)\n",
    "    arrow.set_clip_on(False)\n",
    "    arrow.set_zorder(30)\n",
    "    \n",
    "    # if label is not None:\n",
    "    #     ax.text(start_angle - 5/180 * np.pi, radius, label, ha='left', va='bottom', fontsize=12)\n",
    "    if label is not None:\n",
    "        label_radius = radius - 2 * arrow_size\n",
    "        label_angle = end_angle\n",
    "        ax.text(label_angle, label_radius, label, \n",
    "                ha='left', va='top', \n",
    "                rotation=np.degrees(label_angle) - 90,\n",
    "                rotation_mode='anchor',\n",
    "                fontsize=12)\n",
    "\n",
    "def rad_arrow(ax, angle=90., start_radius=1., end_radius=1.2, arrow_size=0.05, color='k', lw=1.5, unit='degree', label=None):\n",
    "\n",
    "    if unit == 'degree':\n",
    "        angle = angle / 180. * np.pi\n",
    "    base_radius = end_radius - arrow_size * np.sqrt(3)\n",
    "    \n",
    "    # This draws the arc\n",
    "    radii = np.linspace(start_radius, base_radius, endpoint=True)\n",
    "    theta = angle * np.ones_like(radii)\n",
    "    ax.plot(theta, radii, lw=lw, color=color, zorder=30, clip_on=False)\n",
    "    \n",
    "\n",
    "    # Calculate vertices for the arrow tip\n",
    "    vertices = [(angle - arrow_size/base_radius, base_radius), (angle, base_radius + arrow_size), (angle+arrow_size/base_radius, base_radius)]\n",
    "\n",
    "    arrow = plt.Polygon(vertices, closed=True, color=color)\n",
    "    ax.add_patch(arrow)\n",
    "    arrow.set_clip_on(False)\n",
    "    arrow.set_zorder(30)\n",
    "    \n",
    "    # if label is not None:\n",
    "    #     ax.text(start_angle - 5/180 * np.pi, radius, label, ha='left', va='bottom', fontsize=12)\n",
    "    if label is not None:\n",
    "        label_radius = end_radius\n",
    "        label_angle = angle - 2 * arrow_size / label_radius\n",
    "        ax.text(label_angle, label_radius, label, \n",
    "                ha='left', va='top', \n",
    "                rotation=np.degrees(angle) - 90,\n",
    "                rotation_mode='anchor',\n",
    "                fontsize=12)"
   ]
  },
  {
   "cell_type": "code",
   "execution_count": null,
   "metadata": {},
   "outputs": [],
   "source": [
    "import matplotlib.pyplot as plt\n",
    "from matplotlib.patches import FancyArrowPatch\n",
    "\n",
    "# Create a figure and an axis with a polar projection\n",
    "fig, ax = plt.subplots(subplot_kw={'projection': 'polar'})\n",
    "\n",
    "# Plot data on the polar axis\n",
    "ax.plot(psi_mask.psi_grid / 360 * 2 * np.pi, utility_diff, color='r', linewidth=2)\n",
    "\n",
    "arc_arrow(ax, start_angle=55, end_angle=80, radius=utility_diff.max() * 1, arrow_size=0.025, label='$\\psi$')\n",
    "\n",
    "rad_arrow(ax, angle=135/2, start_radius=utility_diff.max() * 0.85, end_radius=utility_diff.max() * 1.15, arrow_size=0.025, label='$U(\\psi)$')\n",
    "\n",
    "ax.set_rlim([0, 1.2])\n",
    "\n",
    "# Display the figure\n",
    "plt.show()\n"
   ]
  },
  {
   "cell_type": "code",
   "execution_count": null,
   "metadata": {},
   "outputs": [],
   "source": [
    "from sklearn.model_selection import train_test_split\n",
    "\n",
    "spec_dataset = SpectrumDataset(\n",
    "    '/pscratch/sd/z/zhantao/inxs_steering/SpinW_data/summarized_AFM_data_2023Aug01.pt',\n",
    "    num_wq=50\n",
    "    )\n",
    "\n",
    "train_idx, val_test_idx = train_test_split(np.arange(len(spec_dataset)), test_size=0.2, random_state=42)\n",
    "val_idx, test_idx = train_test_split(val_test_idx, test_size=0.5, random_state=42)\n"
   ]
  },
  {
   "cell_type": "code",
   "execution_count": null,
   "metadata": {},
   "outputs": [],
   "source": [
    "idx_plot = 10\n",
    "param_test = data['params'][train_idx[idx_plot]]"
   ]
  },
  {
   "cell_type": "code",
   "execution_count": null,
   "metadata": {},
   "outputs": [],
   "source": [
    "w_grid = data['w_grid']\n",
    "q_grid = data['q_grid']\n",
    "Syy_grid = data['Syy']\n",
    "Szz_grid = data['Szz']\n",
    "\n",
    "exp = SimulatedExperiment(q_grid, w_grid, Syy_grid[train_idx[idx_plot]], Szz_grid[train_idx[idx_plot]])"
   ]
  },
  {
   "cell_type": "code",
   "execution_count": null,
   "metadata": {},
   "outputs": [],
   "source": [
    "from inxss.utils_spectrum import calc_Sqw_from_Syy_Szz\n",
    "from inxss.psimask import downsample_1d_with_map_coordinates"
   ]
  },
  {
   "cell_type": "code",
   "execution_count": null,
   "metadata": {},
   "outputs": [],
   "source": [
    "measurement = calc_Sqw_from_Syy_Szz(psi_mask.hklw_grid, exp.Syy_func, exp.Szz_func)"
   ]
  },
  {
   "cell_type": "code",
   "execution_count": null,
   "metadata": {},
   "outputs": [],
   "source": [
    "plt.imshow(Szz_grid[0,100].reshape(101,101))"
   ]
  },
  {
   "cell_type": "code",
   "execution_count": null,
   "metadata": {},
   "outputs": [],
   "source": [
    "fig, ax = plt.subplots(1,1)\n",
    "ax.imshow(measurement.sum(axis=-1).sum(axis=-1), origin='lower', aspect='auto')\n",
    "ax.set_aspect('equal')"
   ]
  },
  {
   "cell_type": "code",
   "execution_count": null,
   "metadata": {},
   "outputs": [],
   "source": [
    "# _mask = psi_mask.get_mask(1)\n",
    "\n",
    "# dist_list = []\n",
    "# model.to(device)\n",
    "# with torch.no_grad():\n",
    "#     for param in tqdm(particle.positions.T):\n",
    "#         x, l = psi_mask.get_model_input(param, grid='hklw')\n",
    "#         output = model(x[_mask].to(device), l[_mask].to(device)).cpu()\n",
    "#         dist_list.append((output.squeeze() - measurement[_mask]).norm().item())"
   ]
  },
  {
   "cell_type": "code",
   "execution_count": null,
   "metadata": {
    "tags": []
   },
   "outputs": [],
   "source": [
    "model.to('cpu')\n",
    "x, l = psi_mask.get_model_input(param_test, grid='hklw')\n",
    "print(x[...,0].max())\n",
    "_x = x[...,:3].clone().numpy()\n",
    "print(x[...,0].max())\n",
    "_x[...,:2] = np.abs(x.numpy()[...,:2] - np.round(x.numpy()[...,:2]))\n",
    "print(x[...,0].max())\n",
    "Syy_chck = torch.from_numpy(exp.Syy_func(_x))\n",
    "Szz_chck = torch.from_numpy(exp.Szz_func(_x))"
   ]
  },
  {
   "cell_type": "code",
   "execution_count": null,
   "metadata": {},
   "outputs": [],
   "source": [
    "xx = torch.cat(\n",
    "    [\n",
    "        torch.from_numpy(_x),\n",
    "        torch.zeros(_x.shape[:-1] + (2,))\n",
    "    ], dim=-1\n",
    ")\n",
    "xx = xx[...,0,0,:]\n",
    "xx[...,-2:] = param_test\n",
    "model.cpu()\n",
    "with torch.no_grad():\n",
    "    xx = model.prepare_input(xx)\n",
    "    Syy_network = model.Syy_net(xx.cpu().to(model.dtype)).cpu()\n",
    "    Szz_network = model.Szz_net(xx.cpu().to(model.dtype)).cpu()"
   ]
  },
  {
   "cell_type": "code",
   "execution_count": null,
   "metadata": {},
   "outputs": [],
   "source": [
    "plt.imshow(Syy_chck[...,0,0])"
   ]
  },
  {
   "cell_type": "code",
   "execution_count": null,
   "metadata": {},
   "outputs": [],
   "source": [
    "plt.imshow(Syy_network)"
   ]
  },
  {
   "cell_type": "code",
   "execution_count": null,
   "metadata": {},
   "outputs": [],
   "source": [
    "with torch.no_grad():\n",
    "    output_full = model(\n",
    "        x[...,0,10,:].cpu(), \n",
    "        l[...,0,10,:].cpu(),\n",
    "    ).cpu().reshape(input.shape[:2])\n",
    "    # output_full = model(\n",
    "    #     x[...,0,0,:].cpu(), \n",
    "    #     l[...,0,0,:].cpu(),\n",
    "    #     Syy = Syy_chck[...,0,10],\n",
    "    #     Szz = Szz_chck[...,0,10]\n",
    "    # ).cpu().reshape(input.shape[:2])\n",
    "    # output_chck = model.calculate_Sqw(torch.cat((x[...,:2], l, x[...,[2]]), dim=-1).view(-1,4), Syy_chck.view(-1), Szz_chck.view(-1)).view(x.shape[:-1])"
   ]
  },
  {
   "cell_type": "code",
   "execution_count": null,
   "metadata": {},
   "outputs": [],
   "source": [
    "# model.calculate_Sqw(torch.cat((x[...,:2], l, x[...,[2]]), dim=-1).view(-1,4), Syy_chck.view(-1), Szz_chck.view(-1)).view(x.shape[:-1])"
   ]
  },
  {
   "cell_type": "code",
   "execution_count": null,
   "metadata": {},
   "outputs": [],
   "source": [
    "# plt.imshow(calc_Sqw_from_Syy_Szz(psi_mask.hklw_grid[...,0,10,:], exp.Syy_func, exp.Szz_func))\n",
    "# plt.imshow(calc_Sqw_from_Syy_Szz(torch.cat((x[...,0,10,:2], l[...,0,10,:], x[...,0,10,[2]]), dim=-1), exp.Syy_func, exp.Szz_func))"
   ]
  },
  {
   "cell_type": "code",
   "execution_count": null,
   "metadata": {},
   "outputs": [],
   "source": [
    "fig, ax = plt.subplots(1,1)\n",
    "im = ax.imshow(output_full, origin='lower', aspect='auto')\n",
    "# im = ax.imshow(output_chck[...,0,10], origin='lower', aspect='auto')\n",
    "ax.set_aspect('equal')\n",
    "fig.colorbar(im)"
   ]
  },
  {
   "cell_type": "code",
   "execution_count": null,
   "metadata": {
    "tags": []
   },
   "outputs": [],
   "source": [
    "fig, ax = plt.subplots(1,1)\n",
    "im = ax.imshow(measurement[...,0,10], origin='lower', aspect='auto')\n",
    "ax.set_aspect('equal')\n",
    "fig.colorbar(im)"
   ]
  },
  {
   "cell_type": "code",
   "execution_count": null,
   "metadata": {},
   "outputs": [],
   "source": [
    "from inxss import linspace_2D_equidistant\n",
    "\n",
    "kpts = torch.from_numpy(linspace_2D_equidistant([[0,0],[0.5,0],[0.15,0.3],[0.5,0.5],[0,0]], 100))\n",
    "wpts = spec_dataset.data_dict['w_grid']\n",
    "\n",
    "x = torch.zeros(wpts.shape[0], kpts.shape[0], 5)\n",
    "x[...,:3] = torch.cat([\n",
    "    kpts.unsqueeze(0).expand(wpts.shape[0], -1, -1),\n",
    "    wpts.view(wpts.shape[0], -1).unsqueeze(1).expand(-1, kpts.shape[0], -1)\n",
    "   ], dim=-1)\n",
    "x[...,3:] = param_test\n",
    "print(x.detach().numpy()[-1,0,:3])\n",
    "# x = model.prepare_input(x)\n",
    "S_pred = model(x.to(model.device)).reshape(wpts.shape[0], kpts.shape[0]).detach().cpu().numpy()\n",
    "print(x.detach().numpy()[-1,0,:3])"
   ]
  },
  {
   "cell_type": "code",
   "execution_count": null,
   "metadata": {},
   "outputs": [],
   "source": [
    "S_true_func = RegularGridInterpolator(\n",
    "    (np.linspace(0, 0.5, 101), np.linspace(0, 0.5, 101), wpts.numpy()), \n",
    "    spec_dataset.data_dict['S'][train_idx[idx_plot]].reshape(-1, 101, 101).permute(1,2,0).numpy(), fill_value=0, bounds_error=False)\n",
    "S_true = S_true_func(x.detach().numpy()[...,:3])\n",
    "\n",
    "# S_true = calc_Sqw_from_Syy_Szz(_x, exp.Syy_func, exp.Szz_func)"
   ]
  },
  {
   "cell_type": "code",
   "execution_count": null,
   "metadata": {
    "tags": []
   },
   "outputs": [],
   "source": [
    "fig, ax = plt.subplots(1, 2, figsize=(6, 5))\n",
    "ax[0].imshow(S_true, origin='lower')\n",
    "ax[0].set_title('True')\n",
    "ax[1].imshow(S_pred, origin='lower')\n",
    "ax[1].set_title('Predicted')\n",
    "\n",
    "fig.suptitle(rf'$J={param_test[0]:.2f}, \\ J_{{p}}={param_test[1]:.2f}$')\n",
    "fig.tight_layout()"
   ]
  }
 ],
 "metadata": {
  "kernelspec": {
   "display_name": "inxs",
   "language": "python",
   "name": "inxs"
  },
  "language_info": {
   "codemirror_mode": {
    "name": "ipython",
    "version": 3
   },
   "file_extension": ".py",
   "mimetype": "text/x-python",
   "name": "python",
   "nbconvert_exporter": "python",
   "pygments_lexer": "ipython3",
   "version": "3.9.17"
  }
 },
 "nbformat": 4,
 "nbformat_minor": 4
}
