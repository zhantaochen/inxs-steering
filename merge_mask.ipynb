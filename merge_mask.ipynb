{
 "cells": [
  {
   "cell_type": "code",
   "execution_count": 1,
   "id": "336a4dd6-ba42-4f47-b5fa-76c4c94a8d5f",
   "metadata": {
    "tags": []
   },
   "outputs": [],
   "source": [
    "%load_ext autoreload\n",
    "%autoreload 2\n",
    "\n",
    "import matplotlib.pyplot as plt\n",
    "import numpy as np\n",
    "import pickle\n",
    "\n",
    "from tqdm import tqdm \n",
    "\n",
    "import os\n",
    "\n",
    "from inxss import PsiMask"
   ]
  },
  {
   "cell_type": "code",
   "execution_count": 2,
   "id": "e27a7388-00b6-46d1-8d63-2ced97bdf8c4",
   "metadata": {
    "tags": []
   },
   "outputs": [],
   "source": [
    "map_path = '/pscratch/sd/z/zhantao/inxs_steering/La2NiO4_bool'\n",
    "grid_info = {\n",
    "    'h_grid': [-3., 3., 90],\n",
    "    'k_grid': [-3., 3., 90],\n",
    "    'l_grid': [-15., 15., 60],\n",
    "    'w_grid': [1., 200., 100]\n",
    "}"
   ]
  },
  {
   "cell_type": "code",
   "execution_count": 3,
   "id": "4b99f8fc-6d1a-40ba-9460-172e6740306b",
   "metadata": {
    "tags": []
   },
   "outputs": [
    {
     "name": "stdout",
     "output_type": "stream",
     "text": [
      "dict_keys(['h_grid', 'k_grid', 'l_grid', 'w_grid'])\n"
     ]
    }
   ],
   "source": [
    "with open(f'{map_path}/metadata', 'rb') as f:\n",
    "    metadata = pickle.load(f)\n",
    "print(metadata.keys())"
   ]
  },
  {
   "cell_type": "code",
   "execution_count": 4,
   "id": "1a6bb50a-b0ce-45c3-b946-f66b25f26ca0",
   "metadata": {
    "tags": []
   },
   "outputs": [],
   "source": [
    "psi_mask = PsiMask(map_path, device='cpu', preload=False)"
   ]
  },
  {
   "cell_type": "code",
   "execution_count": 5,
   "id": "2c020f2f-55cc-42ad-ae23-2340855be201",
   "metadata": {
    "tags": []
   },
   "outputs": [],
   "source": [
    "mask_full = psi_mask.load_mask(25)"
   ]
  },
  {
   "cell_type": "code",
   "execution_count": 6,
   "id": "f15ea750-5cf3-47da-ab8e-f1da0e08ef05",
   "metadata": {
    "tags": []
   },
   "outputs": [
    {
     "data": {
      "text/plain": [
       "Text(0, 0.5, 'k')"
      ]
     },
     "execution_count": 6,
     "metadata": {},
     "output_type": "execute_result"
    },
    {
     "data": {
      "image/png": "[encoded data removed]",
      "text/plain": [
       "<Figure size 640x480 with 1 Axes>"
      ]
     },
     "metadata": {},
     "output_type": "display_data"
    }
   ],
   "source": [
    "shrink_factor = 0.4\n",
    "plt.imshow((mask_full.sum(dim=-1).sum(dim=-1) > 0).T,\n",
    "           extent=[psi_mask.h_grid.min(), psi_mask.h_grid.max(), psi_mask.k_grid.min(), psi_mask.k_grid.max()],\n",
    "           origin='lower'\n",
    "          )\n",
    "plt.vlines([grid_info['h_grid'][0], grid_info['h_grid'][1]], psi_mask.h_grid_src[0], psi_mask.h_grid_src.max())\n",
    "plt.hlines([grid_info['k_grid'][0], grid_info['k_grid'][1]], psi_mask.k_grid_src[0], psi_mask.k_grid_src.max())\n",
    "plt.xlabel('h')\n",
    "plt.ylabel('k')"
   ]
  },
  {
   "cell_type": "code",
   "execution_count": 7,
   "id": "232be7c9-e177-4396-a98c-27b71026e4de",
   "metadata": {
    "tags": []
   },
   "outputs": [
    {
     "name": "stdout",
     "output_type": "stream",
     "text": [
      "obtained memmap mask name as: mask_h__k__l__w_.npy\n",
      "mask memmap not found, you might want to build from scratch (typically ~10 mins)...\n"
     ]
    }
   ],
   "source": [
    "psi_mask_crop = PsiMask(map_path, grid_info, device='cpu', preload=False)\n",
    "mask_crop = psi_mask_crop.load_mask(25)"
   ]
  },
  {
   "cell_type": "code",
   "execution_count": 8,
   "id": "9651499e-d2fd-4a9e-9098-2dee4f7ea11c",
   "metadata": {
    "tags": []
   },
   "outputs": [
    {
     "data": {
      "text/plain": [
       "Text(0, 0.5, 'k')"
      ]
     },
     "execution_count": 8,
     "metadata": {},
     "output_type": "execute_result"
    },
    {
     "data": {
      "image/png": "[encoded data removed]",
      "text/plain": [
       "<Figure size 640x480 with 1 Axes>"
      ]
     },
     "metadata": {},
     "output_type": "display_data"
    }
   ],
   "source": [
    "plt.imshow(\n",
    "    (mask_crop.sum(dim=-1).sum(dim=-1) > 0).T,\n",
    "    extent=[psi_mask_crop.h_grid.min(), psi_mask_crop.h_grid.max(), psi_mask_crop.k_grid.min(), psi_mask_crop.k_grid.max()],\n",
    "    origin='lower'\n",
    ")\n",
    "plt.xlabel('h')\n",
    "plt.ylabel('k')"
   ]
  },
  {
   "cell_type": "code",
   "execution_count": 9,
   "id": "04f47503-1ce7-467d-a6c9-19b3a4559642",
   "metadata": {
    "tags": []
   },
   "outputs": [],
   "source": [
    "with open(f'{map_path}/25.pkl', 'rb') as f:\n",
    "    _tmp_data = pickle.load(f)"
   ]
  },
  {
   "cell_type": "code",
   "execution_count": 10,
   "id": "477f0b6b-429f-430d-be34-9e3fbaf72f16",
   "metadata": {
    "tags": []
   },
   "outputs": [
    {
     "data": {
      "text/plain": [
       "<matplotlib.image.AxesImage at 0x7fee2c17b520>"
      ]
     },
     "execution_count": 10,
     "metadata": {},
     "output_type": "execute_result"
    },
    {
     "data": {
      "image/png": "[encoded data removed]",
      "text/plain": [
       "<Figure size 640x480 with 1 Axes>"
      ]
     },
     "metadata": {},
     "output_type": "display_data"
    }
   ],
   "source": [
    "plt.imshow((_tmp_data['coverage'].sum(axis=-1).sum(axis=-1) > 0).T, origin='lower')"
   ]
  },
  {
   "cell_type": "code",
   "execution_count": 13,
   "id": "99f1af85-901c-4faa-a116-a0650774e969",
   "metadata": {
    "tags": []
   },
   "outputs": [
    {
     "name": "stdout",
     "output_type": "stream",
     "text": [
      "obtained memmap mask name as: mask_h_-3.0_3.0_90_k_-3.0_3.0_90_l_-15.0_15.0_60_w_1.0_200.0_100.npy\n"
     ]
    }
   ],
   "source": [
    "psi_mask_memmap = PsiMask(map_path, memmap_mask_path='/pscratch/sd/z/zhantao/inxs_steering/mask_data',\n",
    "                          grid_info=grid_info, device='cpu', preload=False)"
   ]
  },
  {
   "cell_type": "code",
   "execution_count": 18,
   "id": "212e5444-81db-421f-afcd-e2ae11c71cd1",
   "metadata": {
    "tags": []
   },
   "outputs": [
    {
     "name": "stdout",
     "output_type": "stream",
     "text": [
      "20.4 ms ± 95.2 µs per loop (mean ± std. dev. of 7 runs, 10 loops each)\n"
     ]
    }
   ],
   "source": [
    "%timeit psi_mask_memmap.load_memmap_mask(15)"
   ]
  },
  {
   "cell_type": "code",
   "execution_count": 29,
   "id": "49d7d76b-7222-48b4-a6e9-13d69e08b102",
   "metadata": {
    "tags": []
   },
   "outputs": [
    {
     "data": {
      "text/plain": [
       "<matplotlib.image.AxesImage at 0x7fee250f1730>"
      ]
     },
     "execution_count": 29,
     "metadata": {},
     "output_type": "execute_result"
    },
    {
     "data": {
      "image/png": "[encoded data removed]",
      "text/plain": [
       "<Figure size 640x480 with 3 Axes>"
      ]
     },
     "metadata": {},
     "output_type": "display_data"
    }
   ],
   "source": [
    "fig, ax = plt.subplots(1,3)\n",
    "ax[0].imshow((psi_mask_memmap.mask_memmap[0].sum(axis=-1).sum(axis=-1)>1).T, origin='lower')\n",
    "ax[1].imshow((psi_mask_memmap.mask_memmap[-1].sum(axis=-1).sum(axis=-1)>1).T, origin='lower')\n",
    "ax[2].imshow((psi_mask_memmap.load_memmap_mask(65).sum(axis=-1).sum(axis=-1)>1).T, origin='lower')"
   ]
  },
  {
   "cell_type": "code",
   "execution_count": 19,
   "id": "c5973810-fefd-4a55-a5a9-142d946f23ec",
   "metadata": {
    "tags": []
   },
   "outputs": [],
   "source": [
    "\n",
    "mask_complete = np.zeros(\n",
    "    [360,] + [grid_info[key][-1] for key in ['h_grid', 'k_grid', 'l_grid', 'w_grid']], dtype=bool)\n"
   ]
  },
  {
   "cell_type": "code",
   "execution_count": 22,
   "id": "2e7b4b90-4d14-434d-a59e-6b08ac923192",
   "metadata": {
    "tags": []
   },
   "outputs": [
    {
     "name": "stderr",
     "output_type": "stream",
     "text": [
      "100%|██████████| 360/360 [15:04<00:00,  2.51s/it]\n"
     ]
    }
   ],
   "source": [
    "for i in tqdm(range(360)):\n",
    "    mask_complete[i] = psi_mask_crop.load_mask(i)"
   ]
  },
  {
   "cell_type": "code",
   "execution_count": 33,
   "id": "837a1b9f-efd7-44e1-8ac6-892d65bddf3f",
   "metadata": {
    "tags": []
   },
   "outputs": [
    {
     "data": {
      "text/plain": [
       "[1.0, 200.0, 100]"
      ]
     },
     "execution_count": 33,
     "metadata": {},
     "output_type": "execute_result"
    }
   ],
   "source": [
    "values"
   ]
  },
  {
   "cell_type": "code",
   "execution_count": 37,
   "id": "57a1e356-fe03-4565-8e62-d42bb44973b0",
   "metadata": {
    "tags": []
   },
   "outputs": [
    {
     "name": "stdout",
     "output_type": "stream",
     "text": [
      "mask_h_-3.0_3.0_90_k_-3.0_3.0_90_l_-15.0_15.0_60_w_1.0_200.0_100.npy\n"
     ]
    }
   ],
   "source": [
    "filename_parts = []\n",
    "for key, values in grid_info.items():\n",
    "    prefix = key.split('_')[0]  # Take the first part of the key (like \"h\" from \"h_grid\")\n",
    "    \n",
    "    # Format values: if it's a float, format to 1 decimal point; else, convert to string\n",
    "    values_str = \"_\".join([f\"{v:.1f}\" if isinstance(v, float) else str(v) for v in values])\n",
    "    \n",
    "    filename_parts.append(f\"{prefix}_{values_str}\")\n",
    "\n",
    "filename = \"mask_\" + \"_\".join(filename_parts) + \".npy\"\n",
    "print(filename)"
   ]
  },
  {
   "cell_type": "code",
   "execution_count": 40,
   "id": "078b2ae7-3723-4a4a-9f52-2c7cb4664071",
   "metadata": {
    "tags": []
   },
   "outputs": [],
   "source": [
    "np.save(os.path.join('/pscratch/sd/z/zhantao/inxs_steering/mask_data', filename), mask_complete)\n"
   ]
  },
  {
   "cell_type": "code",
   "execution_count": 41,
   "id": "0b07cd62-0ebb-4fda-b94a-1f514ce5984c",
   "metadata": {
    "tags": []
   },
   "outputs": [],
   "source": [
    "mmap_array = np.load(os.path.join('/pscratch/sd/z/zhantao/inxs_steering/mask_data', filename), mmap_mode='r')"
   ]
  },
  {
   "cell_type": "code",
   "execution_count": 51,
   "id": "5d484872-7a66-4f4f-91f6-e83f98e640db",
   "metadata": {
    "tags": []
   },
   "outputs": [
    {
     "data": {
      "text/plain": [
       "<matplotlib.image.AxesImage at 0x7f0cf8088fd0>"
      ]
     },
     "execution_count": 51,
     "metadata": {},
     "output_type": "execute_result"
    },
    {
     "data": {
      "image/png": "[encoded data removed]",
      "text/plain": [
       "<Figure size 640x480 with 1 Axes>"
      ]
     },
     "metadata": {},
     "output_type": "display_data"
    }
   ],
   "source": [
    "loaded_mask = np.array(mmap_array[5])\n",
    "\n",
    "plt.imshow((loaded_mask.sum(axis=-1).sum(axis=-1) > 0).T, origin='lower')"
   ]
  },
  {
   "cell_type": "code",
   "execution_count": 50,
   "id": "bec85fec-55a8-4a93-bdca-8d487cb6065b",
   "metadata": {
    "tags": []
   },
   "outputs": [
    {
     "data": {
      "text/plain": [
       "<matplotlib.image.AxesImage at 0x7f0cf811e580>"
      ]
     },
     "execution_count": 50,
     "metadata": {},
     "output_type": "execute_result"
    },
    {
     "data": {
      "image/png": "[encoded data removed]",
      "text/plain": [
       "<Figure size 640x480 with 1 Axes>"
      ]
     },
     "metadata": {},
     "output_type": "display_data"
    }
   ],
   "source": [
    "loaded_mask = loaded_mask * 0.\n",
    "\n",
    "plt.imshow((loaded_mask.sum(axis=-1).sum(axis=-1) > 0).T, origin='lower')"
   ]
  },
  {
   "cell_type": "code",
   "execution_count": null,
   "id": "d279883a-1277-4867-9c89-6a7632613a57",
   "metadata": {},
   "outputs": [],
   "source": []
  }
 ],
 "metadata": {
  "kernelspec": {
   "display_name": "inxs",
   "language": "python",
   "name": "inxs"
  },
  "language_info": {
   "codemirror_mode": {
    "name": "ipython",
    "version": 3
   },
   "file_extension": ".py",
   "mimetype": "text/x-python",
   "name": "python",
   "nbconvert_exporter": "python",
   "pygments_lexer": "ipython3",
   "version": "3.9.17"
  }
 },
 "nbformat": 4,
 "nbformat_minor": 5
}
