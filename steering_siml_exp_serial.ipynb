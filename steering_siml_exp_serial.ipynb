{
 "cells": [
  {
   "cell_type": "code",
   "execution_count": 1,
   "metadata": {
    "tags": []
   },
   "outputs": [],
   "source": [
    "%load_ext autoreload\n",
    "%autoreload 2\n",
    "from inxss.utils_spectrum import calc_Sqw_from_Syy_Szz\n",
    "from inxss.experiment import SimulatedExperiment\n",
    "\n",
    "import torch\n",
    "import numpy as np\n",
    "from scipy.interpolate import RegularGridInterpolator\n",
    "\n",
    "from inxss import SpectrumDataset, SpecNeuralRepr, Particle, PsiMask, OnlineVariance, linspace_2D_equidistant\n",
    "from inxss.utils_visualization import arc_arrow, rad_arrow\n",
    "\n",
    "import matplotlib.pyplot as plt\n",
    "\n",
    "from tqdm import tqdm \n",
    "\n",
    "device = torch.device(\"cuda:0\" if torch.cuda.is_available() else \"cpu\")\n",
    "\n",
    "torch.set_default_dtype(torch.float32)"
   ]
  },
  {
   "cell_type": "code",
   "execution_count": 2,
   "metadata": {
    "tags": []
   },
   "outputs": [],
   "source": [
    "from inxss.experiment import Background, SimulatedExperiment\n",
    "from inxss.steer_neutron import NeutronExperimentSteerer\n",
    "from sklearn.model_selection import train_test_split"
   ]
  },
  {
   "cell_type": "code",
   "execution_count": null,
   "metadata": {},
   "outputs": [],
   "source": [
    "num_steps = 50"
   ]
  },
  {
   "cell_type": "code",
   "execution_count": 3,
   "metadata": {
    "tags": []
   },
   "outputs": [
    {
     "name": "stdout",
     "output_type": "stream",
     "text": [
      "dict_keys(['grid', 'S', 'background', 'background_dict'])\n"
     ]
    }
   ],
   "source": [
    "model_path = '/pscratch/sd/z/zhantao/inxs_steering_production/models/version_14896845/checkpoints/epoch=7160-step=343728.ckpt'\n",
    "data = torch.load('/pscratch/sd/z/zhantao/inxs_steering_production/experiment_data/summarized_neutron_data_w_bkg_260meV_ML.pt')\n",
    "print(data.keys())"
   ]
  },
  {
   "cell_type": "code",
   "execution_count": 4,
   "metadata": {
    "tags": []
   },
   "outputs": [],
   "source": [
    "global_mask = (data['S']>0).bool()\n",
    "\n",
    "background = Background(\n",
    "    tuple([data['grid'][_grid] for _grid in ['h_grid', 'k_grid', 'l_grid']]), \n",
    "    data['grid']['w_grid'], \n",
    "    data['background']\n",
    ")"
   ]
  },
  {
   "cell_type": "code",
   "execution_count": 10,
   "metadata": {
    "tags": []
   },
   "outputs": [
    {
     "name": "stdout",
     "output_type": "stream",
     "text": [
      "obtained memmap mask name as: mask_h_-2.0_2.0_121_k_-2.0_2.0_121_l_-10.0_4.5_30_w_20.0_200.0_91.npy\n"
     ]
    }
   ],
   "source": [
    "particle_filter_config = {\n",
    "    \"num_particles\": 1000,\n",
    "    \"dim_particles\": 2,\n",
    "    \"prior_configs\": {'types': ['uniform', 'uniform'], 'args': [{'low': 20, 'high': 40}, {'low': -5, 'high': 5}]}\n",
    "}\n",
    "\n",
    "\n",
    "grid_info = {\n",
    "    k: [v.min().item(), v.max().item(), len(v)] for k,v in data['grid'].items()\n",
    "}\n",
    "\n",
    "mask_config = {\n",
    "    \"raw_mask_path\": '/pscratch/sd/z/zhantao/inxs_steering/La2NiO4_bool',\n",
    "    \"memmap_mask_path\": '/pscratch/sd/z/zhantao/inxs_steering/mask_data',\n",
    "    \"grid_info\": grid_info,\n",
    "    \"preload\": False,\n",
    "    \"build_from_scratch_if_no_memmap\": True,\n",
    "    \"global_mask\": None\n",
    "}\n",
    "psi_mask = PsiMask(**mask_config)"
   ]
  },
  {
   "cell_type": "code",
   "execution_count": 7,
   "metadata": {},
   "outputs": [],
   "source": [
    "spinw_data = torch.load('/pscratch/sd/z/zhantao/inxs_steering/SpinW_data/summarized_AFM_data_2023Sep13.pt')\n",
    "\n",
    "train_idx, val_test_idx = train_test_split(np.arange(spinw_data['Syy'].shape[0]), test_size=0.2, random_state=42)\n",
    "val_idx, test_idx = train_test_split(val_test_idx, test_size=0.5, random_state=42)\n",
    "\n",
    "result_dict = {}"
   ]
  },
  {
   "cell_type": "code",
   "execution_count": 8,
   "metadata": {
    "tags": []
   },
   "outputs": [
    {
     "name": "stderr",
     "output_type": "stream",
     "text": [
      "  0%|          | 0/60 [00:00<?, ?it/s]"
     ]
    },
    {
     "name": "stdout",
     "output_type": "stream",
     "text": [
      "obtained memmap mask name as: mask_h_-2.0_2.0_121_k_-2.0_2.0_121_l_-10.0_4.5_30_w_20.0_200.0_91.npy\n",
      "obtained memmap mask name as: mask_h_-2.0_2.0_121_k_-2.0_2.0_121_l_-10.0_4.5_30_w_20.0_200.0_91.npy\n",
      "true params:  [22.54245013 -3.92064747]\n"
     ]
    },
    {
     "name": "stderr",
     "output_type": "stream",
     "text": [
      "/tmp/ipykernel_228010/1651676305.py:55: UserWarning: The use of `x.T` on tensors of dimension other than 2 to reverse their shape is deprecated and it will throw an error in a future release. Consider `x.mT` to transpose batches of matrices or `x.permute(*torch.arange(x.ndim - 1, -1, -1))` to reverse the dimensions of a tensor. (Triggered internally at ../aten/src/ATen/native/TensorShape.cpp:3571.)\n",
      "  weights_list.append(steer.particle_filter.weights.data.T[None])\n",
      "means: [27.225, -0.432]  stds: [3.897, 2.649]: 100%|██████████| 5/5 [01:09<00:00, 13.95s/it]\n",
      "  0%|          | 0/60 [02:58<?, ?it/s]\n"
     ]
    }
   ],
   "source": [
    "# idx_sample = 13\n",
    "for idx_sample in tqdm(test_idx):\n",
    "    sim_experiment = SimulatedExperiment(\n",
    "        spinw_data['q_grid'], spinw_data['w_grid'], \n",
    "        spinw_data['Syy'][test_idx[idx_sample]], spinw_data['Szz'][test_idx[idx_sample]],\n",
    "        neutron_flux=300\n",
    "    )\n",
    "    sim_experiment.prepare_experiment(psi_mask.hklw_grid)\n",
    "    experiment_config = {\n",
    "        \"q_grid\": tuple([data['grid'][_grid] for _grid in ['h_grid', 'k_grid', 'l_grid']]),\n",
    "        \"w_grid\": data['grid']['w_grid'],\n",
    "        \"S_grid\": torch.from_numpy(data['background']) + \\\n",
    "            global_mask * sim_experiment.Sqw,\n",
    "        \"S_scale_factor\": 1.\n",
    "    }\n",
    "\n",
    "    background_config = {\n",
    "        \"q_grid\": tuple([data['grid'][_grid] for _grid in ['h_grid', 'k_grid', 'l_grid']]),\n",
    "        \"w_grid\": data['grid']['w_grid'],\n",
    "        \"bkg_grid\": data['background']\n",
    "    }\n",
    "\n",
    "    model = SpecNeuralRepr.load_from_checkpoint(model_path).to(device)\n",
    "\n",
    "    steer = NeutronExperimentSteerer(\n",
    "        model, particle_filter_config=particle_filter_config,\n",
    "        mask_config=mask_config, experiment_config=experiment_config, background_config=background_config,\n",
    "        likelihood_sample_ratio=0.25, tqdm_pbar=False, device='cuda')\n",
    "    \n",
    "    mean_list = []\n",
    "    std_list = []\n",
    "\n",
    "    posisition_list = []\n",
    "    weights_list = []\n",
    "\n",
    "    steer.reset()\n",
    "\n",
    "    true_params = spinw_data['params'][test_idx[idx_sample]].numpy()\n",
    "\n",
    "    print('true params: ', true_params)\n",
    "    with torch.no_grad():\n",
    "        progress_bar = tqdm(range(num_steps))\n",
    "        for i in progress_bar:\n",
    "            steer.step_steer(mode='unique_optimal')\n",
    "            current_mean = steer.particle_filter.mean().detach().cpu()\n",
    "            current_std = steer.particle_filter.std().detach().cpu()\n",
    "            progress_bar.set_description(\n",
    "                f'means: [{current_mean[0]:.3f}, {current_mean[1]:.3f}] '\n",
    "                f' stds: [{current_std[0]:.3f}, {current_std[1]:.3f}]'\n",
    "            )\n",
    "            mean_list.append(current_mean)\n",
    "            std_list.append(current_std)\n",
    "            \n",
    "            posisition_list.append(steer.particle_filter.positions.data.T[None])\n",
    "            weights_list.append(steer.particle_filter.weights.data.T[None])\n",
    "\n",
    "    sub_result_dict = {\n",
    "        'positions': torch.vstack(posisition_list).float(),\n",
    "        'weights': torch.vstack(weights_list).float(),\n",
    "        'measured_angles': torch.from_numpy(np.vstack(steer.measured_angles_history).squeeze()).float(),\n",
    "        'background_signal_factors': torch.stack(steer.sig_bkg_factors_history).float(),\n",
    "        'true_params': torch.from_numpy(true_params).float(),\n",
    "    }\n",
    "    \n",
    "    result_dict[idx_sample] = sub_result_dict\n",
    "    torch.save(result_dict, f'/pscratch/sd/z/zhantao/inxs_steering_production/benchmark/{idx_sample}.pt')"
   ]
  }
 ],
 "metadata": {
  "kernelspec": {
   "display_name": "Python 3",
   "language": "python",
   "name": "python3"
  },
  "language_info": {
   "codemirror_mode": {
    "name": "ipython",
    "version": 3
   },
   "file_extension": ".py",
   "mimetype": "text/x-python",
   "name": "python",
   "nbconvert_exporter": "python",
   "pygments_lexer": "ipython3",
   "version": "3.9.17"
  }
 },
 "nbformat": 4,
 "nbformat_minor": 4
}
