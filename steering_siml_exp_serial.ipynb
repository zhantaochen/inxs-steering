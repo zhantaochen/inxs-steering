{
 "cells": [
  {
   "cell_type": "code",
   "execution_count": 1,
   "metadata": {
    "tags": []
   },
   "outputs": [],
   "source": [
    "%load_ext autoreload\n",
    "%autoreload 2\n",
    "from inxss.utils_spectrum import calc_Sqw_from_Syy_Szz\n",
    "from inxss.experiment import SimulatedExperiment\n",
    "\n",
    "import torch\n",
    "import numpy as np\n",
    "from scipy.interpolate import RegularGridInterpolator\n",
    "\n",
    "from inxss import SpectrumDataset, SpecNeuralRepr, Particle, PsiMask, OnlineVariance, linspace_2D_equidistant\n",
    "from inxss.utils_visualization import arc_arrow, rad_arrow\n",
    "\n",
    "import matplotlib.pyplot as plt\n",
    "\n",
    "from tqdm import tqdm \n",
    "from inxss.experiment import Background, SimulatedExperiment\n",
    "from inxss.steer_neutron import NeutronExperimentSteerer\n",
    "from sklearn.model_selection import train_test_split\n",
    "\n",
    "import os\n",
    "from datetime import datetime\n",
    "\n",
    "torch.set_default_dtype(torch.float32)"
   ]
  },
  {
   "cell_type": "code",
   "execution_count": 2,
   "metadata": {},
   "outputs": [
    {
     "name": "stderr",
     "output_type": "stream",
     "text": [
      "/tmp/ipykernel_717551/662023411.py:7: UserWarning: \n",
      "The version_base parameter is not specified.\n",
      "Please specify a compatability version level, or None.\n",
      "Will assume defaults for version 1.1\n",
      "  with initialize(config_path=\"conf\"):\n"
     ]
    }
   ],
   "source": [
    "import hydra\n",
    "from hydra import initialize, compose\n",
    "from hydra.core.global_hydra import GlobalHydra\n",
    "\n",
    "GlobalHydra.instance().clear()\n",
    "\n",
    "with initialize(config_path=\"conf\"):\n",
    "    cfg = compose(config_name=\"config_gauss\")"
   ]
  },
  {
   "cell_type": "code",
   "execution_count": 14,
   "metadata": {},
   "outputs": [],
   "source": []
  },
  {
   "cell_type": "code",
   "execution_count": 3,
   "metadata": {
    "tags": []
   },
   "outputs": [],
   "source": [
    "spinw_data = torch.load(cfg['paths']['spinw_data_path'])\n",
    "\n",
    "train_idx, val_test_idx = train_test_split(np.arange(spinw_data['Syy'].shape[0]), test_size=0.2, random_state=42)\n",
    "val_idx, test_idx = train_test_split(val_test_idx, test_size=0.5, random_state=42)\n",
    "\n",
    "result_dict = {}"
   ]
  },
  {
   "cell_type": "code",
   "execution_count": 4,
   "metadata": {},
   "outputs": [],
   "source": [
    "device = torch.device(f\"cuda\" if torch.cuda.is_available() else \"cpu\")"
   ]
  },
  {
   "cell_type": "code",
   "execution_count": 5,
   "metadata": {},
   "outputs": [],
   "source": [
    "num_steps = 50\n",
    "\n",
    "scale_likelihood = cfg['likelihood']['scale']\n",
    "likelihood_type = cfg['likelihood']['type']"
   ]
  },
  {
   "cell_type": "code",
   "execution_count": 6,
   "metadata": {},
   "outputs": [
    {
     "name": "stdout",
     "output_type": "stream",
     "text": [
      "output_path: /pscratch/sd/z/zhantao/inxs_steering_production/benchmarks/lkhd_gaussian_scaled_True_steps_50_20240202-1459\n"
     ]
    }
   ],
   "source": [
    "time_stamp = datetime.now().strftime(\"%Y%m%d-%H%M\")\n",
    "\n",
    "if cfg['likelihood']['type'] == 'gaussian':\n",
    "    output_path = os.path.join(\n",
    "        cfg['paths']['output_path'],\n",
    "        f\"lkhd_{likelihood_type}_std_{cfg['likelihood']['std']}_scaled_{scale_likelihood}_steps_{num_steps}_{time_stamp}\"\n",
    "    )\n",
    "else:\n",
    "    output_path = os.path.join(\n",
    "        cfg['paths']['output_path'],\n",
    "        f\"lkhd_{likelihood_type}_scaled_{scale_likelihood}_steps_{num_steps}_{time_stamp}\"\n",
    "    )\n",
    "\n",
    "if not os.path.exists(output_path):\n",
    "    os.makedirs(output_path)\n",
    "\n",
    "print('output_path:', output_path)"
   ]
  },
  {
   "cell_type": "code",
   "execution_count": 7,
   "metadata": {
    "tags": []
   },
   "outputs": [
    {
     "name": "stdout",
     "output_type": "stream",
     "text": [
      "dict_keys(['grid', 'S', 'background', 'background_dict'])\n"
     ]
    }
   ],
   "source": [
    "model_path = cfg['paths']['model_path']\n",
    "data = torch.load(cfg['paths']['data_path'])\n",
    "print(data.keys())"
   ]
  },
  {
   "cell_type": "code",
   "execution_count": 8,
   "metadata": {
    "tags": []
   },
   "outputs": [],
   "source": [
    "global_mask = (data['S']>0).bool()\n",
    "\n",
    "background = Background(\n",
    "    tuple([data['grid'][_grid] for _grid in ['h_grid', 'k_grid', 'l_grid']]), \n",
    "    data['grid']['w_grid'], \n",
    "    data['background']\n",
    ")"
   ]
  },
  {
   "cell_type": "code",
   "execution_count": 9,
   "metadata": {
    "tags": []
   },
   "outputs": [
    {
     "name": "stdout",
     "output_type": "stream",
     "text": [
      "obtained memmap mask name as: mask_h_-2.0_2.0_121_k_-2.0_2.0_121_l_-10.0_4.5_30_w_20.0_200.0_91.npy\n"
     ]
    }
   ],
   "source": [
    "particle_filter_config = {\n",
    "    \"num_particles\": 1000,\n",
    "    \"dim_particles\": 2,\n",
    "    \"prior_configs\": {'types': ['uniform', 'uniform'], 'args': [{'low': 20, 'high': 40}, {'low': -5, 'high': 5}]}\n",
    "}\n",
    "\n",
    "grid_info = {\n",
    "    k: [v.min().item(), v.max().item(), len(v)] for k,v in data['grid'].items()\n",
    "}\n",
    "\n",
    "mask_config = {\n",
    "    \"raw_mask_path\": cfg['paths']['raw_mask_path'],\n",
    "    \"memmap_mask_path\": cfg['paths']['memmap_mask_path'],\n",
    "    \"grid_info\": grid_info,\n",
    "    \"preload\": False,\n",
    "    \"build_from_scratch_if_no_memmap\": True,\n",
    "    \"global_mask\": None\n",
    "}\n",
    "psi_mask = PsiMask(**mask_config)"
   ]
  },
  {
   "cell_type": "code",
   "execution_count": 11,
   "metadata": {
    "tags": []
   },
   "outputs": [
    {
     "name": "stderr",
     "output_type": "stream",
     "text": [
      "  0%|          | 0/60 [00:00<?, ?it/s]"
     ]
    },
    {
     "name": "stdout",
     "output_type": "stream",
     "text": [
      "obtained memmap mask name as: mask_h_-2.0_2.0_121_k_-2.0_2.0_121_l_-10.0_4.5_30_w_20.0_200.0_91.npy\n",
      "true params:  [26.40645264 -3.44447412]\n"
     ]
    },
    {
     "name": "stderr",
     "output_type": "stream",
     "text": [
      "/global/u2/z/zhantao/Projects/inxs_steering/inxss/particle.py:138: RuntimeWarning: covariance is not symmetric positive-semidefinite.\n",
      "  self.rng.multivariate_normal(\n",
      "means: [26.514, -3.451]  stds: [0.341, 0.240]: 100%|██████████| 50/50 [11:43<00:00, 14.08s/it]\n",
      "  2%|▏         | 1/60 [13:44<13:30:44, 824.49s/it]"
     ]
    },
    {
     "name": "stdout",
     "output_type": "stream",
     "text": [
      "obtained memmap mask name as: mask_h_-2.0_2.0_121_k_-2.0_2.0_121_l_-10.0_4.5_30_w_20.0_200.0_91.npy\n",
      "true params:  [22.4045718   3.47758564]\n"
     ]
    },
    {
     "name": "stderr",
     "output_type": "stream",
     "text": [
      "means: [22.370, 3.415]  stds: [0.350, 0.252]:  72%|███████▏  | 36/50 [08:40<03:22, 14.46s/it]\n",
      "  2%|▏         | 1/60 [24:24<24:00:05, 1464.50s/it]\n"
     ]
    },
    {
     "ename": "KeyboardInterrupt",
     "evalue": "",
     "output_type": "error",
     "traceback": [
      "\u001b[0;31m---------------------------------------------------------------------------\u001b[0m",
      "\u001b[0;31mKeyboardInterrupt\u001b[0m                         Traceback (most recent call last)",
      "Cell \u001b[0;32mIn[11], line 41\u001b[0m\n\u001b[1;32m     39\u001b[0m progress_bar \u001b[38;5;241m=\u001b[39m tqdm(\u001b[38;5;28mrange\u001b[39m(num_steps))\n\u001b[1;32m     40\u001b[0m \u001b[38;5;28;01mfor\u001b[39;00m i \u001b[38;5;129;01min\u001b[39;00m progress_bar:\n\u001b[0;32m---> 41\u001b[0m     \u001b[43msteer\u001b[49m\u001b[38;5;241;43m.\u001b[39;49m\u001b[43mstep_steer\u001b[49m\u001b[43m(\u001b[49m\u001b[43mmode\u001b[49m\u001b[38;5;241;43m=\u001b[39;49m\u001b[38;5;124;43m'\u001b[39;49m\u001b[38;5;124;43munique_optimal\u001b[39;49m\u001b[38;5;124;43m'\u001b[39;49m\u001b[43m)\u001b[49m\n\u001b[1;32m     42\u001b[0m     current_mean \u001b[38;5;241m=\u001b[39m steer\u001b[38;5;241m.\u001b[39mparticle_filter\u001b[38;5;241m.\u001b[39mmean()\u001b[38;5;241m.\u001b[39mdetach()\u001b[38;5;241m.\u001b[39mcpu()\n\u001b[1;32m     43\u001b[0m     current_std \u001b[38;5;241m=\u001b[39m steer\u001b[38;5;241m.\u001b[39mparticle_filter\u001b[38;5;241m.\u001b[39mstd()\u001b[38;5;241m.\u001b[39mdetach()\u001b[38;5;241m.\u001b[39mcpu()\n",
      "File \u001b[0;32m/pscratch/sd/z/zhantao/conda/inxs/lib/python3.9/site-packages/torch/utils/_contextlib.py:115\u001b[0m, in \u001b[0;36mcontext_decorator.<locals>.decorate_context\u001b[0;34m(*args, **kwargs)\u001b[0m\n\u001b[1;32m    112\u001b[0m \u001b[38;5;129m@functools\u001b[39m\u001b[38;5;241m.\u001b[39mwraps(func)\n\u001b[1;32m    113\u001b[0m \u001b[38;5;28;01mdef\u001b[39;00m \u001b[38;5;21mdecorate_context\u001b[39m(\u001b[38;5;241m*\u001b[39margs, \u001b[38;5;241m*\u001b[39m\u001b[38;5;241m*\u001b[39mkwargs):\n\u001b[1;32m    114\u001b[0m     \u001b[38;5;28;01mwith\u001b[39;00m ctx_factory():\n\u001b[0;32m--> 115\u001b[0m         \u001b[38;5;28;01mreturn\u001b[39;00m \u001b[43mfunc\u001b[49m\u001b[43m(\u001b[49m\u001b[38;5;241;43m*\u001b[39;49m\u001b[43margs\u001b[49m\u001b[43m,\u001b[49m\u001b[43m \u001b[49m\u001b[38;5;241;43m*\u001b[39;49m\u001b[38;5;241;43m*\u001b[39;49m\u001b[43mkwargs\u001b[49m\u001b[43m)\u001b[49m\n",
      "File \u001b[0;32m/global/u2/z/zhantao/Projects/inxs_steering/inxss/steer_neutron.py:235\u001b[0m, in \u001b[0;36mNeutronExperimentSteerer.step_steer\u001b[0;34m(self, mode)\u001b[0m\n\u001b[1;32m    231\u001b[0m \u001b[38;5;129m@torch\u001b[39m\u001b[38;5;241m.\u001b[39mno_grad()\n\u001b[1;32m    232\u001b[0m \u001b[38;5;28;01mdef\u001b[39;00m \u001b[38;5;21mstep_steer\u001b[39m(\u001b[38;5;28mself\u001b[39m, mode\u001b[38;5;241m=\u001b[39m\u001b[38;5;124m'\u001b[39m\u001b[38;5;124munique_optimal\u001b[39m\u001b[38;5;124m'\u001b[39m):\n\u001b[1;32m    234\u001b[0m     \u001b[38;5;28;01mif\u001b[39;00m mode \u001b[38;5;241m==\u001b[39m \u001b[38;5;124m'\u001b[39m\u001b[38;5;124munique_optimal\u001b[39m\u001b[38;5;124m'\u001b[39m:\n\u001b[0;32m--> 235\u001b[0m         next_angle \u001b[38;5;241m=\u001b[39m \u001b[38;5;28;43mself\u001b[39;49m\u001b[38;5;241;43m.\u001b[39;49m\u001b[43mget_unique_optimal_angle\u001b[49m\u001b[43m(\u001b[49m\u001b[43m)\u001b[49m\n\u001b[1;32m    236\u001b[0m     \u001b[38;5;28;01melif\u001b[39;00m mode \u001b[38;5;241m==\u001b[39m \u001b[38;5;124m'\u001b[39m\u001b[38;5;124moptimal\u001b[39m\u001b[38;5;124m'\u001b[39m:\n\u001b[1;32m    237\u001b[0m         next_angle \u001b[38;5;241m=\u001b[39m \u001b[38;5;28mself\u001b[39m\u001b[38;5;241m.\u001b[39mget_optimal_angle()\n",
      "File \u001b[0;32m/global/u2/z/zhantao/Projects/inxs_steering/inxss/steer_neutron.py:167\u001b[0m, in \u001b[0;36mNeutronExperimentSteerer.get_unique_optimal_angle\u001b[0;34m(self)\u001b[0m\n\u001b[1;32m    166\u001b[0m \u001b[38;5;28;01mdef\u001b[39;00m \u001b[38;5;21mget_unique_optimal_angle\u001b[39m(\u001b[38;5;28mself\u001b[39m,):\n\u001b[0;32m--> 167\u001b[0m     utility \u001b[38;5;241m=\u001b[39m \u001b[38;5;28;43mself\u001b[39;49m\u001b[38;5;241;43m.\u001b[39;49m\u001b[43mcompute_utility\u001b[49m\u001b[43m(\u001b[49m\u001b[43m)\u001b[49m\n\u001b[1;32m    168\u001b[0m     \u001b[38;5;66;03m# Sort the indices of the utilities in descending order\u001b[39;00m\n\u001b[1;32m    169\u001b[0m     sorted_indices \u001b[38;5;241m=\u001b[39m utility\u001b[38;5;241m.\u001b[39margsort(descending\u001b[38;5;241m=\u001b[39m\u001b[38;5;28;01mTrue\u001b[39;00m)\n",
      "File \u001b[0;32m/global/u2/z/zhantao/Projects/inxs_steering/inxss/steer_neutron.py:94\u001b[0m, in \u001b[0;36mNeutronExperimentSteerer.compute_utility\u001b[0;34m(self)\u001b[0m\n\u001b[1;32m     93\u001b[0m \u001b[38;5;28;01mdef\u001b[39;00m \u001b[38;5;21mcompute_utility\u001b[39m(\u001b[38;5;28mself\u001b[39m,):\n\u001b[0;32m---> 94\u001b[0m     utility \u001b[38;5;241m=\u001b[39m \u001b[38;5;28;43mself\u001b[39;49m\u001b[38;5;241;43m.\u001b[39;49m\u001b[43m_compute_utility\u001b[49m\u001b[43m(\u001b[49m\u001b[43m)\u001b[49m\n\u001b[1;32m     95\u001b[0m     \u001b[38;5;66;03m# utility_sf = torch.ones_like(utility)\u001b[39;00m\n\u001b[1;32m     96\u001b[0m     \u001b[38;5;28;01mif\u001b[39;00m \u001b[38;5;28mlen\u001b[39m(\u001b[38;5;28mself\u001b[39m\u001b[38;5;241m.\u001b[39mmeasured_angles_history) \u001b[38;5;241m>\u001b[39m \u001b[38;5;241m0\u001b[39m:\n",
      "File \u001b[0;32m/global/u2/z/zhantao/Projects/inxs_steering/inxss/steer_neutron.py:89\u001b[0m, in \u001b[0;36mNeutronExperimentSteerer._compute_utility\u001b[0;34m(self)\u001b[0m\n\u001b[1;32m     87\u001b[0m \u001b[38;5;28;01mdef\u001b[39;00m \u001b[38;5;21m_compute_utility\u001b[39m(\u001b[38;5;28mself\u001b[39m,):\n\u001b[1;32m     88\u001b[0m     \u001b[38;5;66;03m# std = self.compute_prediction_std_over_parameters()\u001b[39;00m\n\u001b[0;32m---> 89\u001b[0m     std \u001b[38;5;241m=\u001b[39m \u001b[38;5;28;43mself\u001b[39;49m\u001b[38;5;241;43m.\u001b[39;49m\u001b[43mcompute_prediction_std_over_sampled_parameters\u001b[49m\u001b[43m(\u001b[49m\u001b[43m)\u001b[49m\n\u001b[1;32m     90\u001b[0m     utility \u001b[38;5;241m=\u001b[39m torch\u001b[38;5;241m.\u001b[39meinsum(\u001b[38;5;124m\"\u001b[39m\u001b[38;5;124mijkl, jkl -> i\u001b[39m\u001b[38;5;124m\"\u001b[39m, \u001b[38;5;28mself\u001b[39m\u001b[38;5;241m.\u001b[39mmask_on_full_psi_grid\u001b[38;5;241m.\u001b[39mto(std), std)\n\u001b[1;32m     91\u001b[0m     \u001b[38;5;28;01mreturn\u001b[39;00m utility\n",
      "File \u001b[0;32m/global/u2/z/zhantao/Projects/inxs_steering/inxss/steer_neutron.py:137\u001b[0m, in \u001b[0;36mNeutronExperimentSteerer.compute_prediction_std_over_sampled_parameters\u001b[0;34m(self)\u001b[0m\n\u001b[1;32m    135\u001b[0m     \u001b[38;5;28;01mfor\u001b[39;00m _input \u001b[38;5;129;01min\u001b[39;00m \u001b[38;5;28mself\u001b[39m\u001b[38;5;241m.\u001b[39m_progress_bar(x_input_chunks, total\u001b[38;5;241m=\u001b[39m\u001b[38;5;28mlen\u001b[39m(x_input_chunks), desc\u001b[38;5;241m=\u001b[39m\u001b[38;5;124m\"\u001b[39m\u001b[38;5;124mComputing pred std over params\u001b[39m\u001b[38;5;124m\"\u001b[39m):\n\u001b[1;32m    136\u001b[0m         _output \u001b[38;5;241m=\u001b[39m torch\u001b[38;5;241m.\u001b[39mzeros(_input\u001b[38;5;241m.\u001b[39mshape[:\u001b[38;5;241m-\u001b[39m\u001b[38;5;241m1\u001b[39m])\u001b[38;5;241m.\u001b[39mto(_input)\n\u001b[0;32m--> 137\u001b[0m         _output[:,\u001b[38;5;28mself\u001b[39m\u001b[38;5;241m.\u001b[39mattainable_mask_on_full_psi_grid] \u001b[38;5;241m=\u001b[39m \u001b[38;5;28;43mself\u001b[39;49m\u001b[38;5;241;43m.\u001b[39;49m\u001b[43mmodel\u001b[49m\u001b[43m(\u001b[49m\u001b[43m_input\u001b[49m\u001b[43m[\u001b[49m\u001b[43m:\u001b[49m\u001b[43m,\u001b[49m\u001b[38;5;28;43mself\u001b[39;49m\u001b[38;5;241;43m.\u001b[39;49m\u001b[43mattainable_mask_on_full_psi_grid\u001b[49m\u001b[43m]\u001b[49m\u001b[38;5;241;43m.\u001b[39;49m\u001b[43mto\u001b[49m\u001b[43m(\u001b[49m\u001b[38;5;28;43mself\u001b[39;49m\u001b[38;5;241;43m.\u001b[39;49m\u001b[43mdevice\u001b[49m\u001b[43m)\u001b[49m\u001b[43m)\u001b[49m\u001b[38;5;241;43m.\u001b[39;49m\u001b[43mdetach\u001b[49m\u001b[43m(\u001b[49m\u001b[43m)\u001b[49m\u001b[38;5;241;43m.\u001b[39;49m\u001b[43mcpu\u001b[49m\u001b[43m(\u001b[49m\u001b[43m)\u001b[49m\n\u001b[1;32m    138\u001b[0m         output_list\u001b[38;5;241m.\u001b[39mappend(_output)\n\u001b[1;32m    139\u001b[0m output_list \u001b[38;5;241m=\u001b[39m torch\u001b[38;5;241m.\u001b[39mcat(output_list, dim\u001b[38;5;241m=\u001b[39m\u001b[38;5;241m0\u001b[39m)\u001b[38;5;241m.\u001b[39mto(sampled_particle_weights)\n",
      "\u001b[0;31mKeyboardInterrupt\u001b[0m: "
     ]
    }
   ],
   "source": [
    "\n",
    "for idx_sample in tqdm(test_idx):\n",
    "    sim_experiment = SimulatedExperiment(\n",
    "        spinw_data['q_grid'], spinw_data['w_grid'], \n",
    "        spinw_data['Syy'][idx_sample], spinw_data['Szz'][idx_sample],\n",
    "        neutron_flux=300\n",
    "    )\n",
    "    sim_experiment.prepare_experiment(psi_mask.hklw_grid)\n",
    "    experiment_config = {\n",
    "        \"q_grid\": tuple([data['grid'][_grid] for _grid in ['h_grid', 'k_grid', 'l_grid']]),\n",
    "        \"w_grid\": data['grid']['w_grid'],\n",
    "        \"S_grid\": torch.from_numpy(data['background']) + \\\n",
    "            global_mask * sim_experiment.Sqw,\n",
    "        \"S_scale_factor\": 1.\n",
    "    }\n",
    "\n",
    "    background_config = {\n",
    "        \"q_grid\": tuple([data['grid'][_grid] for _grid in ['h_grid', 'k_grid', 'l_grid']]),\n",
    "        \"w_grid\": data['grid']['w_grid'],\n",
    "        \"bkg_grid\": data['background']\n",
    "    }\n",
    "\n",
    "    model = SpecNeuralRepr.load_from_checkpoint(model_path).to(device)\n",
    "\n",
    "    steer = NeutronExperimentSteerer(\n",
    "        model, particle_filter_config=particle_filter_config,\n",
    "        mask_config=mask_config, experiment_config=experiment_config, background_config=background_config,\n",
    "        use_utility_sf=cfg['utility']['use_utility_sf'], utility_sf=cfg['utility']['utility_sf_sigma'],\n",
    "        tqdm_pbar=False, lkhd_dict=cfg['likelihood'], device=device)\n",
    "        \n",
    "    mean_list = [steer.particle_filter.mean().detach().cpu()]\n",
    "    std_list = [steer.particle_filter.std().detach().cpu()]\n",
    "\n",
    "    posisition_list = [steer.particle_filter.positions.data.T[None].cpu()]\n",
    "    weights_list = [steer.particle_filter.weights.data[None].cpu()]\n",
    "\n",
    "    true_params = spinw_data['params'][idx_sample].numpy()\n",
    "\n",
    "    print('true params: ', true_params)\n",
    "    with torch.no_grad():\n",
    "        progress_bar = tqdm(range(num_steps))\n",
    "        for i in progress_bar:\n",
    "            steer.step_steer(mode='unique_optimal')\n",
    "            current_mean = steer.particle_filter.mean().detach().cpu()\n",
    "            current_std = steer.particle_filter.std().detach().cpu()\n",
    "            progress_bar.set_description(\n",
    "                f'means: [{current_mean[0]:.3f}, {current_mean[1]:.3f}] '\n",
    "                f' stds: [{current_std[0]:.3f}, {current_std[1]:.3f}]'\n",
    "            )\n",
    "            mean_list.append(current_mean)\n",
    "            std_list.append(current_std)\n",
    "            \n",
    "            posisition_list.append(steer.particle_filter.positions.data.T[None].cpu())\n",
    "            weights_list.append(steer.particle_filter.weights.data[None].cpu())\n",
    "\n",
    "    sub_result_dict = {\n",
    "        'means': torch.vstack(mean_list).double(),\n",
    "        'positions': torch.vstack(posisition_list).double(),\n",
    "        'weights': torch.vstack(weights_list).double(),\n",
    "        'measured_angles': torch.from_numpy(np.vstack(steer.measured_angles_history).squeeze()).double(),\n",
    "        'background_signal_factors': torch.stack(steer.sig_bkg_factors_history).double(),\n",
    "        'utility': torch.from_numpy(np.vstack(steer.utility_history).squeeze()).double(),\n",
    "        'true_params': torch.from_numpy(true_params).double(),\n",
    "    }\n",
    "    \n",
    "    torch.save(sub_result_dict, os.path.join(output_path, f'{idx_sample}.pt'))"
   ]
  },
  {
   "cell_type": "code",
   "execution_count": null,
   "metadata": {},
   "outputs": [],
   "source": []
  }
 ],
 "metadata": {
  "kernelspec": {
   "display_name": "Python 3",
   "language": "python",
   "name": "python3"
  },
  "language_info": {
   "codemirror_mode": {
    "name": "ipython",
    "version": 3
   },
   "file_extension": ".py",
   "mimetype": "text/x-python",
   "name": "python",
   "nbconvert_exporter": "python",
   "pygments_lexer": "ipython3",
   "version": "3.9.17"
  }
 },
 "nbformat": 4,
 "nbformat_minor": 4
}
