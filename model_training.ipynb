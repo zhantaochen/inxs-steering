{
 "cells": [
  {
   "cell_type": "code",
   "execution_count": 1,
   "metadata": {
    "tags": []
   },
   "outputs": [],
   "source": [
    "%load_ext autoreload\n",
    "%autoreload 2\n",
    "import numpy as np\n",
    "import torch\n",
    "from inxss import SirenNet\n",
    "\n",
    "from sklearn.model_selection import train_test_split\n",
    "\n",
    "from lightning.pytorch.loggers import TensorBoardLogger"
   ]
  },
  {
   "cell_type": "code",
   "execution_count": 2,
   "metadata": {
    "tags": []
   },
   "outputs": [],
   "source": [
    "from inxss import SpectrumDataset, SpecNeuralRepr\n",
    "from torch.utils.data import DataLoader"
   ]
  },
  {
   "cell_type": "code",
   "execution_count": 3,
   "metadata": {
    "tags": []
   },
   "outputs": [],
   "source": [
    "spec_dataset = SpectrumDataset(\n",
    "        '/pscratch/sd/z/zhantao/inxs_steering/SpinW_data/summarized_smoothed_AFM_data_2023Sep13.pt',\n",
    "        num_wq=10000\n",
    "    )"
   ]
  },
  {
   "cell_type": "code",
   "execution_count": 4,
   "metadata": {},
   "outputs": [],
   "source": [
    "train_idx, val_test_idx = train_test_split(np.arange(len(spec_dataset)), test_size=0.2, random_state=42)\n",
    "val_idx, test_idx = train_test_split(val_test_idx, test_size=0.5, random_state=42)\n",
    "\n",
    "train_loader = DataLoader([spec_dataset[i] for i in train_idx], batch_size=10, shuffle=True)\n",
    "val_loader = DataLoader([spec_dataset[i] for i in val_idx], batch_size=10, shuffle=False)\n",
    "test_loader = DataLoader([spec_dataset[i] for i in test_idx], batch_size=10, shuffle=False)"
   ]
  },
  {
   "cell_type": "code",
   "execution_count": 5,
   "metadata": {},
   "outputs": [],
   "source": [
    "import lightning as L\n",
    "from lightning.pytorch.callbacks import ModelCheckpoint, TQDMProgressBar\n",
    "\n",
    "model = SpecNeuralRepr(\n",
    "    scale_dict={\n",
    "            'J' : [(20, 40), (0, 0.5)], \n",
    "            'Jp': [(-5,  5), (0, 0.5)], \n",
    "            'w' : [(0, 250), (0, 0.5)]\n",
    "        }\n",
    ")"
   ]
  },
  {
   "cell_type": "code",
   "execution_count": 6,
   "metadata": {
    "tags": []
   },
   "outputs": [
    {
     "name": "stdout",
     "output_type": "stream",
     "text": [
      "Epoch 8304: 100%|██████████| 48/48 [00:01<00:00, 27.74it/s, v_num=1.49e+7]\n",
      "Validation: 0it [00:00, ?it/s]\u001b[A\n",
      "Validation:   0%|          | 0/6 [00:00<?, ?it/s]\u001b[A\n",
      "Validation DataLoader 0:   0%|          | 0/6 [00:00<?, ?it/s]\u001b[A\n",
      "Epoch 8304: 100%|██████████| 48/48 [00:01<00:00, 26.11it/s, v_num=1.49e+7]\n",
      "Epoch 8305: 100%|██████████| 48/48 [00:01<00:00, 31.30it/s, v_num=1.49e+7]\n",
      "Validation: 0it [00:00, ?it/s]\u001b[A\n",
      "Validation:   0%|          | 0/6 [00:00<?, ?it/s]\u001b[A\n",
      "Validation DataLoader 0:   0%|          | 0/6 [00:00<?, ?it/s]\u001b[A\n",
      "Epoch 8305: 100%|██████████| 48/48 [00:01<00:00, 28.71it/s, v_num=1.49e+7]\n",
      "Epoch 8306: 100%|██████████| 48/48 [00:01<00:00, 28.95it/s, v_num=1.49e+7]\n",
      "Validation: 0it [00:00, ?it/s]\u001b[A\n",
      "Validation:   0%|          | 0/6 [00:00<?, ?it/s]\u001b[A\n",
      "Validation DataLoader 0:   0%|          | 0/6 [00:00<?, ?it/s]\u001b[A\n",
      "Epoch 8306: 100%|██████████| 48/48 [00:01<00:00, 27.19it/s, v_num=1.49e+7]\n",
      "Epoch 8307: 100%|██████████| 48/48 [00:01<00:00, 30.70it/s, v_num=1.49e+7]\n",
      "Validation: 0it [00:00, ?it/s]\u001b[A\n",
      "Validation:   0%|          | 0/6 [00:00<?, ?it/s]\u001b[A\n",
      "Validation DataLoader 0:   0%|          | 0/6 [00:00<?, ?it/s]\u001b[A\n",
      "Epoch 8307: 100%|██████████| 48/48 [00:01<00:00, 28.63it/s, v_num=1.49e+7]\n",
      "Epoch 8308: 100%|██████████| 48/48 [00:01<00:00, 27.16it/s, v_num=1.49e+7]\n",
      "Validation: 0it [00:00, ?it/s]\u001b[A\n",
      "Validation:   0%|          | 0/6 [00:00<?, ?it/s]\u001b[A\n",
      "Validation DataLoader 0:   0%|          | 0/6 [00:00<?, ?it/s]\u001b[A\n",
      "Epoch 8308: 100%|██████████| 48/48 [00:01<00:00, 25.49it/s, v_num=1.49e+7]\n",
      "Epoch 8309: 100%|██████████| 48/48 [00:01<00:00, 27.06it/s, v_num=1.49e+7]\n",
      "Validation: 0it [00:00, ?it/s]\u001b[A\n",
      "Validation:   0%|          | 0/6 [00:00<?, ?it/s]\u001b[A\n",
      "Validation DataLoader 0:   0%|          | 0/6 [00:00<?, ?it/s]\u001b[A\n",
      "Epoch 8309: 100%|██████████| 48/48 [00:01<00:00, 25.42it/s, v_num=1.49e+7]\n",
      "Epoch 8310:  21%|██        | 10/48 [00:00<00:01, 32.52it/s, v_num=1.49e+7]"
     ]
    },
    {
     "name": "stderr",
     "output_type": "stream",
     "text": [
      "/pscratch/sd/z/zhantao/conda/inxs/lib/python3.9/site-packages/lightning/pytorch/trainer/call.py:53: UserWarning: Detected KeyboardInterrupt, attempting graceful shutdown...\n",
      "  rank_zero_warn(\"Detected KeyboardInterrupt, attempting graceful shutdown...\")\n"
     ]
    }
   ],
   "source": [
    "checkpoint_callback = ModelCheckpoint(\n",
    "    save_on_train_epoch_end=False, save_last=True, save_top_k=1, monitor=\"val_loss\"\n",
    ")\n",
    "\n",
    "logger = TensorBoardLogger(save_dir='/pscratch/sd/z/zhantao/inxs_steering')\n",
    "\n",
    "trainer = L.Trainer(\n",
    "    max_epochs=10000, accelerator=\"gpu\",\n",
    "    callbacks=[TQDMProgressBar(refresh_rate=10), checkpoint_callback],\n",
    "    logger=logger, log_every_n_steps=1, devices=1,\n",
    "    enable_checkpointing=True,\n",
    "    default_root_dir='/pscratch/sd/z/zhantao/inxs_steering'\n",
    ")\n",
    "\n",
    "trainer.fit(model, train_loader, val_loader)"
   ]
  }
 ],
 "metadata": {
  "kernelspec": {
   "display_name": "Python 3 (ipykernel)",
   "language": "python",
   "name": "python3"
  },
  "language_info": {
   "codemirror_mode": {
    "name": "ipython",
    "version": 3
   },
   "file_extension": ".py",
   "mimetype": "text/x-python",
   "name": "python",
   "nbconvert_exporter": "python",
   "pygments_lexer": "ipython3",
   "version": "3.9.16"
  }
 },
 "nbformat": 4,
 "nbformat_minor": 4
}
